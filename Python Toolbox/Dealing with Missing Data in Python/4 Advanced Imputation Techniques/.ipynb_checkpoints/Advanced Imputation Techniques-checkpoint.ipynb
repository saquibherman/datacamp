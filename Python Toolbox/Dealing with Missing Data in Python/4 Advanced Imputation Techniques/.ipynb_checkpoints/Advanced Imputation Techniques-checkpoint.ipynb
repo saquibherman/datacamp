{
 "cells": [
  {
   "cell_type": "markdown",
   "metadata": {},
   "source": [
    "# 4. Advanced Imputation Techniques\n",
    "\n",
    "Finally, go beyond simple imputation techniques and make the most of your dataset by using advanced imputation techniques that rely on machine learning models, to be able to accurately impute and evaluate your missing data. You will be using methods such as KNN and MICE in order to get the most out of your missing data!"
   ]
  },
  {
   "cell_type": "markdown",
   "metadata": {},
   "source": [
    "<font size=\"5\"><b>KNN imputation</b></font><br/>\n",
    "\n",
    "Datasets always have features which are correlated. Hence, it becomes important to consider them as a factor for imputing missing values. Machine learning models use features in the DataFrame to find correlations and patterns and predict a selected feature.\n",
    "\n",
    "One of the simplest and most efficient models is the K Nearest Neighbors. It finds 'K' points most similar to the existing data points to impute missing values.\n",
    "\n",
    "In this exercise, the <mark>diabetes</mark> DataFrame has already been loaded for you. Use the <mark>fancyimpute</mark> package to impute the missing values in the <mark>diabetes</mark> DataFrame.\n",
    "\n",
    "<b>Instructions</b>\n",
    "- Import KNN from fancyimpute.\n",
    "- Copy diabetes to diabetes_knn_imputed.\n",
    "- Create a KNN() object and assign it to knn_imputer.\n",
    "- Impute the diabetes_knn_imputed DataFrame"
   ]
  },
  {
   "cell_type": "code",
   "execution_count": 1,
   "metadata": {},
   "outputs": [],
   "source": [
    "import pandas as pd\n",
    "diabetes = pd.read_csv('pima-indians-diabetes data.csv')"
   ]
  },
  {
   "cell_type": "code",
   "execution_count": 2,
   "metadata": {},
   "outputs": [
    {
     "name": "stderr",
     "output_type": "stream",
     "text": [
      "Using TensorFlow backend.\n"
     ]
    },
    {
     "name": "stdout",
     "output_type": "stream",
     "text": [
      "Imputing row 1/768 with 1 missing, elapsed time: 0.364\n",
      "Imputing row 101/768 with 2 missing, elapsed time: 0.379\n",
      "Imputing row 201/768 with 1 missing, elapsed time: 0.387\n",
      "Imputing row 301/768 with 3 missing, elapsed time: 0.395\n",
      "Imputing row 401/768 with 2 missing, elapsed time: 0.399\n",
      "Imputing row 501/768 with 0 missing, elapsed time: 0.399\n",
      "Imputing row 601/768 with 1 missing, elapsed time: 0.414\n",
      "Imputing row 701/768 with 0 missing, elapsed time: 0.414\n"
     ]
    }
   ],
   "source": [
    "# Import KNN from fancyimpute\n",
    "from fancyimpute import KNN\n",
    "\n",
    "# Copy diabetes to diabetes_knn_imputed\n",
    "diabetes_knn_imputed = diabetes.copy(deep=True)\n",
    "\n",
    "# Initialize KNN\n",
    "knn_imputer = KNN()\n",
    "\n",
    "# Impute using fit_tranform on diabetes_knn_imputed\n",
    "diabetes_knn_imputed.iloc[:, :] = knn_imputer.fit_transform(diabetes_knn_imputed)"
   ]
  },
  {
   "cell_type": "markdown",
   "metadata": {},
   "source": [
    "<b>Congratulations! Now you know how to impute missing values using KNN!</b>"
   ]
  },
  {
   "cell_type": "markdown",
   "metadata": {},
   "source": [
    "<font size=\"5\"><b>MICE imputation</b></font><br/>\n",
    "\n",
    "The fancyimpute package offers various robust machine learning models for imputing missing values. You can explore the complete list of imputers from the detailed [documentation](https://github.com/iskandr/fancyimpute). Here, we will use <mark>IterativeImputer</mark> or popularly called MICE for imputing missing values.\n",
    "\n",
    "The <mark>IterativeImputer</mark> performs multiple regressions on random samples of the data and aggregates for imputing the missing values. You will use the <mark>diabetes</mark> DataFrame for performing this imputation.\n",
    "\n",
    "<b>Instructions</b>\n",
    "\n",
    "- Import IterativeImputer from fancyimpute.\n",
    "- Copy diabetes to diabetes_mice_imputed.\n",
    "- Create an IterativeImputer() object and assign it to mice_imputer.\n",
    "- Impute the diabetes DataFrame."
   ]
  },
  {
   "cell_type": "code",
   "execution_count": 3,
   "metadata": {},
   "outputs": [],
   "source": [
    "diabetes = pd.read_csv('pima-indians-diabetes data.csv')"
   ]
  },
  {
   "cell_type": "code",
   "execution_count": 4,
   "metadata": {},
   "outputs": [],
   "source": [
    "# Import IterativeImputer from fancyimpute\n",
    "from fancyimpute import IterativeImputer\n",
    "\n",
    "# Copy diabetes to diabetes_mice_imputed\n",
    "diabetes_mice_imputed = diabetes.copy(deep=True)\n",
    "\n",
    "# Initialize IterativeImputer\n",
    "mice_imputer = IterativeImputer()\n",
    "\n",
    "# Impute using fit_tranform on diabetes\n",
    "diabetes_mice_imputed.iloc[:, :] = mice_imputer.fit_transform(diabetes)"
   ]
  },
  {
   "cell_type": "markdown",
   "metadata": {},
   "source": [
    "<b>Congratulations! You've learned the advanced techniques to impute missing values. At the end of this chapter, you'll learn to evaluate the accuracy of these imputation techniques!</b>"
   ]
  },
  {
   "cell_type": "markdown",
   "metadata": {},
   "source": [
    "<font size=\"5\"><b>Ordinal encoding of a categorical column</b></font><br/>\n",
    "\n",
    "Imputing categorical values involves a few additional steps over imputing numerical values. You need to first convert them to numerical values as statistical operations cannot be performed on strings.\n",
    "\n",
    "You will use the user profile dataset which contains customer preferences and choices recorded by a restaurant. It contains only categorical features. In this exercise, you will convert the categorical column <mark>'ambience'</mark> to a numerical one using <mark>OrdinalEncoder</mark> from <mark>sklearn</mark>. The DataFrame has been loaded for you as <mark>users</mark>. The function <mark>OrdinalEncoder()</mark> has also been loaded.\n",
    "\n",
    "<b>Instruction</b>\n",
    "\n",
    "- Create the ordinal encoder object and assign it to ambience_ord_enc.\n",
    "- Select the non-missing values of the 'ambience' column in users.\n",
    "- Reshape ambience_not_null to shape (-1, 1).\n",
    "- Replace the non-missing values of ambience with its encoded values.\n"
   ]
  },
  {
   "cell_type": "code",
   "execution_count": 5,
   "metadata": {},
   "outputs": [],
   "source": [
    "import numpy as np\n",
    "from sklearn.preprocessing import OrdinalEncoder\n",
    "users = pd.read_csv('userprofile.csv')"
   ]
  },
  {
   "cell_type": "code",
   "execution_count": 6,
   "metadata": {},
   "outputs": [],
   "source": [
    "# Create Ordinal encoder\n",
    "ambience_ord_enc = OrdinalEncoder()\n",
    "\n",
    "# Select non-null values of ambience column in users\n",
    "ambience = users['ambience']\n",
    "ambience_not_null = ambience[ambience.notnull()]\n",
    "\n",
    "# Reshape ambience_not_null to shape (-1, 1)\n",
    "reshaped_vals = ambience_not_null.values.reshape(-1,1)\n",
    "\n",
    "# Ordinally encode reshaped_vals\n",
    "encoded_vals = ambience_ord_enc.fit_transform(reshaped_vals)\n",
    "\n",
    "# Assign back encoded values to non-null values of ambience in users\n",
    "users.loc[ambience.notnull(), 'ambience'] = np.squeeze(encoded_vals)"
   ]
  },
  {
   "cell_type": "markdown",
   "metadata": {},
   "source": [
    "<b>Ace! Now you know how to impute categorical values!</b>"
   ]
  },
  {
   "cell_type": "markdown",
   "metadata": {},
   "source": [
    "<font size=\"5\"><b>Ordinal encoding of a DataFrame</b></font><br/>\n",
    "\n",
    "Categorical features can be encoded using two techniques namely, one-hot encoding and ordinal encoding. In one-hot encoding, each category becomes a column and the respective category column for each row is 1 and the others 0. In ordinal encoding, the categories are mapped to integer values starting from 0 to number of categories.\n",
    "\n",
    "In this exercise, you will loop over all the columns in the <mark>users</mark> DataFrame to ordinally encode the categories. You will also store an encoder for each column in a dictionary <mark>ordinal_enc_dict</mark> so that the encoded columns can be converted back to the original categories.\n",
    "\n",
    "<b>Instructions</b>\n",
    "\n",
    "- Define an empty dictionary ordinal_enc_dict.\n",
    "- Create an Ordinal Encoder object for each column.\n",
    "- Select non-null values of column in users and encode them.\n",
    "- Assign back the encoded values to non-null values of each column (col_name) in users."
   ]
  },
  {
   "cell_type": "code",
   "execution_count": 7,
   "metadata": {},
   "outputs": [],
   "source": [
    "users = pd.read_csv('userprofile.csv')"
   ]
  },
  {
   "cell_type": "code",
   "execution_count": 8,
   "metadata": {},
   "outputs": [],
   "source": [
    "# Create an empty dictionary ordinal_enc_dict\n",
    "ordinal_enc_dict = {}\n",
    "\n",
    "for col_name in users:\n",
    "    # Create Ordinal encoder for col\n",
    "    ordinal_enc_dict[col_name] = OrdinalEncoder()\n",
    "    col = users[col_name]\n",
    "    \n",
    "    # Select non-null values of col\n",
    "    col_not_null = col[col.notnull()]\n",
    "    reshaped_vals = col_not_null.values.reshape(-1, 1)\n",
    "    encoded_vals = ordinal_enc_dict[col_name].fit_transform(reshaped_vals)\n",
    "    \n",
    "    # Store the values to non-null values of the column in users\n",
    "    users.loc[col.notnull(), col_name] = np.squeeze(encoded_vals)"
   ]
  },
  {
   "cell_type": "markdown",
   "metadata": {},
   "source": [
    "<b>Awesome! Using this for loop, you're now able to automate encoding all categorical columns in the DataFrame!</b>"
   ]
  },
  {
   "cell_type": "markdown",
   "metadata": {},
   "source": [
    "<font size=\"5\"><b>KNN imputation of categorical values</b></font><br/>\n",
    "\n",
    "Once all the categorical columns in the DataFrame have been converted to ordinal values, the DataFrame can be imputed. Imputing using statistical models like K-Nearest Neighbors provides better imputations.\n",
    "\n",
    "In this exercise, you'll use the <mark>KNN()</mark> function from <mark>fancyimpute</mark> to impute the missing values. Lastly, you will also convert the ordinal values back to their respective categories using the ordinal encoder's <mark>.inverse_transform()</mark> method. Remember, each column's encoder object is present in the <mark>ordinal_enc_dict</mark> dictionary. The <mark>KNN()</mark> function and the ordinally encoded DataFrame <mark>users</mark> has already been imported for you.\n",
    "\n",
    "<b>Instructions</b>\n",
    "- Initialize the KNN() imputer.\n",
    "- Impute the users DataFrame and round the results.\n",
    "- Iterate over columns in users and perform .inverse_tranform() on the ordinally encoded columns."
   ]
  },
  {
   "cell_type": "code",
   "execution_count": 9,
   "metadata": {},
   "outputs": [
    {
     "name": "stdout",
     "output_type": "stream",
     "text": [
      "Imputing row 1/138 with 0 missing, elapsed time: 0.013\n",
      "Imputing row 101/138 with 0 missing, elapsed time: 0.016\n"
     ]
    }
   ],
   "source": [
    "# Create KNN imputer\n",
    "KNN_imputer = KNN()\n",
    "\n",
    "# Impute and round the users DataFrame\n",
    "users.iloc[:, :] = np.round(KNN_imputer.fit_transform(users))\n",
    "\n",
    "# Loop over the column names in users\n",
    "for col_name in users:\n",
    "    \n",
    "    # Reshape the data\n",
    "    reshaped = users[col_name].values.reshape(-1, 1)\n",
    "    \n",
    "    # Perform inverse transform of the ordinally encoded columns\n",
    "    users[col_name] = ordinal_enc_dict[col_name].inverse_transform(reshaped)"
   ]
  },
  {
   "cell_type": "markdown",
   "metadata": {},
   "source": [
    "<b>Yeah! You're now able to convert categorical values to numerical ones, impute them using machine learning, and then re-convert them to categorical ones!</b>"
   ]
  },
  {
   "cell_type": "markdown",
   "metadata": {},
   "source": [
    "<font size=\"5\"><b>Analyze the summary of linear model</b></font><br/>\n",
    "\n",
    "Analyzing the performance of the different imputed models is one of the most significant tasks in dealing with missing data. It determines, the type of imputed DataFrame you can rely upon. For analysis, you can fit a linear regression model on the imputed DataFrame and check for various parameters that impact the selection of the imputation type.\n",
    "\n",
    "In this exercise, you have already been loaded with the DataFrame <mark>diabetes_cc</mark> which is the complete case of diabetes DataFrame. The complete case acts as a base for comparison against other imputed DataFrames. You will use the package <mark>statsmodels.api</mark> loaded as <mark>sm</mark> for creating a linear regression model and generating summaries."
   ]
  },
  {
   "cell_type": "code",
   "execution_count": 10,
   "metadata": {},
   "outputs": [],
   "source": [
    "# diabetes_cc will act as a base for comparison against other imputed DataFrames\n",
    "diabetes_cc = diabetes.dropna(how='any')\n",
    "\n",
    "# import statsmodels\n",
    "import statsmodels.api as sm"
   ]
  },
  {
   "cell_type": "code",
   "execution_count": 11,
   "metadata": {},
   "outputs": [
    {
     "name": "stderr",
     "output_type": "stream",
     "text": [
      "C:\\Users\\saqui\\Anaconda3\\lib\\site-packages\\numpy\\core\\fromnumeric.py:2389: FutureWarning: Method .ptp is deprecated and will be removed in a future version. Use numpy.ptp instead.\n",
      "  return ptp(axis=axis, out=out, **kwargs)\n"
     ]
    }
   ],
   "source": [
    "# Set all features in the DataFrame diabetes_cc as X by adding a constant, \n",
    "# while excluding and setting the 'Class' column as y.\n",
    "\n",
    "# Add constant to X and set X & y values to fit linear model\n",
    "X = sm.add_constant(diabetes_cc.iloc[:,:-1])\n",
    "y = diabetes_cc['Class']\n",
    "lm = sm.OLS(y, X).fit()"
   ]
  },
  {
   "cell_type": "code",
   "execution_count": 12,
   "metadata": {},
   "outputs": [
    {
     "name": "stdout",
     "output_type": "stream",
     "text": [
      "\n",
      "Summary:                              OLS Regression Results                            \n",
      "==============================================================================\n",
      "Dep. Variable:                  Class   R-squared:                       0.346\n",
      "Model:                            OLS   Adj. R-squared:                  0.332\n",
      "Method:                 Least Squares   F-statistic:                     25.30\n",
      "Date:                Tue, 10 Mar 2020   Prob (F-statistic):           2.65e-31\n",
      "Time:                        21:52:51   Log-Likelihood:                -177.76\n",
      "No. Observations:                 392   AIC:                             373.5\n",
      "Df Residuals:                     383   BIC:                             409.3\n",
      "Df Model:                           8                                         \n",
      "Covariance Type:            nonrobust                                         \n",
      "=====================================================================================\n",
      "                        coef    std err          t      P>|t|      [0.025      0.975]\n",
      "-------------------------------------------------------------------------------------\n",
      "const                -1.1027      0.144     -7.681      0.000      -1.385      -0.820\n",
      "Pregnant              0.0130      0.008      1.549      0.122      -0.003       0.029\n",
      "Glucose               0.0064      0.001      7.855      0.000       0.005       0.008\n",
      "Diastolic_BP       5.465e-05      0.002      0.032      0.975      -0.003       0.003\n",
      "Skin_Fold             0.0017      0.003      0.665      0.506      -0.003       0.007\n",
      "Serum_Insulin        -0.0001      0.000     -0.603      0.547      -0.001       0.000\n",
      "BMI                   0.0093      0.004      2.391      0.017       0.002       0.017\n",
      "Diabetes_Pedigree     0.1572      0.058      2.708      0.007       0.043       0.271\n",
      "Age                   0.0059      0.003      2.109      0.036       0.000       0.011\n",
      "==============================================================================\n",
      "Omnibus:                        9.511   Durbin-Watson:                   1.920\n",
      "Prob(Omnibus):                  0.009   Jarque-Bera (JB):                9.387\n",
      "Skew:                           0.344   Prob(JB):                      0.00916\n",
      "Kurtosis:                       2.682   Cond. No.                     1.77e+03\n",
      "==============================================================================\n",
      "\n",
      "Warnings:\n",
      "[1] Standard Errors assume that the covariance matrix of the errors is correctly specified.\n",
      "[2] The condition number is large, 1.77e+03. This might indicate that there are\n",
      "strong multicollinearity or other numerical problems.\n"
     ]
    }
   ],
   "source": [
    "# Print the summary of the linear model lm.\n",
    "\n",
    "# Print summary of lm\n",
    "print('\\nSummary: ', lm.summary())"
   ]
  },
  {
   "cell_type": "code",
   "execution_count": 13,
   "metadata": {},
   "outputs": [
    {
     "name": "stdout",
     "output_type": "stream",
     "text": [
      "\n",
      "Adjusted R-squared score:  0.33210805003287613\n"
     ]
    }
   ],
   "source": [
    "# Print the adjusted R-squared score of linear model lm.\n",
    "\n",
    "# Print R squared score of lm\n",
    "print('\\nAdjusted R-squared score: ', lm.rsquared_adj)"
   ]
  },
  {
   "cell_type": "code",
   "execution_count": 14,
   "metadata": {},
   "outputs": [
    {
     "name": "stdout",
     "output_type": "stream",
     "text": [
      "\n",
      "Coefficcients:\n",
      " const               -1.102677\n",
      "Pregnant             0.012953\n",
      "Glucose              0.006409\n",
      "Diastolic_BP         0.000055\n",
      "Skin_Fold            0.001678\n",
      "Serum_Insulin       -0.000123\n",
      "BMI                  0.009325\n",
      "Diabetes_Pedigree    0.157192\n",
      "Age                  0.005878\n",
      "dtype: float64\n"
     ]
    }
   ],
   "source": [
    "# Print the .params of the linear model.\n",
    "\n",
    "# Print the params of lm\n",
    "print('\\nCoefficcients:\\n', lm.params)"
   ]
  },
  {
   "cell_type": "markdown",
   "metadata": {},
   "source": [
    "<b>Great job! You have taken your initial steps in analyzing the imputations!</b>"
   ]
  },
  {
   "cell_type": "markdown",
   "metadata": {},
   "source": [
    "<font size=\"5\"><b>Comparing R-squared and coefficients</b></font><br/>\n",
    "\n",
    "During the analysis of imputed DataFrames on a linear model, the R-squared score which explains the accuracy and the coefficients which explains the model itself can act as some of the important characteristics to check for the quality of imputation.\n",
    "\n",
    "In this exercise, you will compare the adjusted R-squared and the coefficients of the linear regressions belonging to the mean, KNN and MICE imputed DataFrames against the baseline linear model <mark>diabetes_cc</mark> respectively. Their linear models have already been loaded for you as <mark>lm</mark>, <mark>lm_mean</mark>, <mark>lm_KNN</mark> and <mark>lm_MICE</mark> for making the comparisons."
   ]
  },
  {
   "cell_type": "markdown",
   "metadata": {},
   "source": [
    "<b>Create the r_squared DataFrame by mapping each model's adjusted R-squared to the imputation name.</b>"
   ]
  },
  {
   "cell_type": "code",
   "execution_count": 15,
   "metadata": {},
   "outputs": [],
   "source": [
    "from sklearn.impute import SimpleImputer\n",
    "\n",
    "# Make a copy of diabetes for Mean Imputation\n",
    "diabetes_mean_imputed = diabetes.copy(deep=True)\n",
    "\n",
    "# Create mean imputer object\n",
    "mean_imputer = SimpleImputer(strategy='mean')\n",
    "\n",
    "# Impute mean values in the DataFrame diabetes_mean\n",
    "diabetes_mean_imputed.iloc[:, :] = mean_imputer.fit_transform(diabetes_mean_imputed)"
   ]
  },
  {
   "cell_type": "code",
   "execution_count": 16,
   "metadata": {},
   "outputs": [
    {
     "name": "stderr",
     "output_type": "stream",
     "text": [
      "C:\\Users\\saqui\\Anaconda3\\lib\\site-packages\\numpy\\core\\fromnumeric.py:2389: FutureWarning: Method .ptp is deprecated and will be removed in a future version. Use numpy.ptp instead.\n",
      "  return ptp(axis=axis, out=out, **kwargs)\n"
     ]
    }
   ],
   "source": [
    "# Mean Imputation\n",
    "X = sm.add_constant(diabetes_mean_imputed.iloc[:, :-1])\n",
    "y = diabetes['Class']\n",
    "lm_mean = sm.OLS(y, X).fit()\n",
    "\n",
    "# KNN Imputation\n",
    "X = sm.add_constant(diabetes_knn_imputed.iloc[:, :-1])\n",
    "lm_KNN = sm.OLS(y, X).fit()\n",
    "\n",
    "# MICE Imputation\n",
    "X = sm.add_constant(diabetes_mice_imputed.iloc[:, :-1])\n",
    "lm_MICE = sm.OLS(y, X).fit()"
   ]
  },
  {
   "cell_type": "code",
   "execution_count": 17,
   "metadata": {},
   "outputs": [
    {
     "name": "stdout",
     "output_type": "stream",
     "text": [
      "                Complete Case  Mean Imputation  KNN Imputation  \\\n",
      "Adj. R-squared       0.332108         0.313781        0.316505   \n",
      "\n",
      "                MICE Imputation  \n",
      "Adj. R-squared         0.316532  \n"
     ]
    }
   ],
   "source": [
    "# Store the Adj. R-squared scores of the linear models\n",
    "r_squared = pd.DataFrame({'Complete Case': lm.rsquared_adj, \n",
    "                          'Mean Imputation': lm_mean.rsquared_adj, \n",
    "                          'KNN Imputation': lm_KNN.rsquared_adj, \n",
    "                          'MICE Imputation': lm_MICE.rsquared_adj}, \n",
    "                         index=['Adj. R-squared'])\n",
    "\n",
    "print(r_squared)"
   ]
  },
  {
   "cell_type": "markdown",
   "metadata": {},
   "source": [
    "<b>Create the coeff DataFrame by mapping each model's coefficients to the imputation name.</b>"
   ]
  },
  {
   "cell_type": "code",
   "execution_count": 18,
   "metadata": {},
   "outputs": [
    {
     "name": "stdout",
     "output_type": "stream",
     "text": [
      "                   Complete Case  Mean Imputation  KNN Imputation  \\\n",
      "const                  -1.102677        -1.024005       -1.027586   \n",
      "Pregnant                0.012953         0.020693        0.020074   \n",
      "Glucose                 0.006409         0.006467        0.006593   \n",
      "Diastolic_BP            0.000055        -0.001137       -0.001191   \n",
      "Skin_Fold               0.001678         0.000193        0.001744   \n",
      "Serum_Insulin          -0.000123        -0.000090       -0.000129   \n",
      "BMI                     0.009325         0.014376        0.013103   \n",
      "Diabetes_Pedigree       0.157192         0.129282        0.127763   \n",
      "Age                     0.005878         0.002092        0.002036   \n",
      "\n",
      "                   MICE Imputation  \n",
      "const                    -1.034975  \n",
      "Pregnant                  0.020381  \n",
      "Glucose                   0.006638  \n",
      "Diastolic_BP             -0.001220  \n",
      "Skin_Fold                 0.000567  \n",
      "Serum_Insulin            -0.000116  \n",
      "BMI                       0.014148  \n",
      "Diabetes_Pedigree         0.127936  \n",
      "Age                       0.002050  \n"
     ]
    }
   ],
   "source": [
    "# Store the coefficients of the linear models\n",
    "coeff = pd.DataFrame({'Complete Case': lm.params, \n",
    "                      'Mean Imputation': lm_mean.params, \n",
    "                      'KNN Imputation': lm_KNN.params, \n",
    "                      'MICE Imputation': lm_MICE.params})\n",
    "\n",
    "print(coeff)"
   ]
  },
  {
   "cell_type": "markdown",
   "metadata": {},
   "source": [
    "<b>Select the best imputation based on the R-squared score.</b>"
   ]
  },
  {
   "cell_type": "code",
   "execution_count": 19,
   "metadata": {},
   "outputs": [
    {
     "name": "stdout",
     "output_type": "stream",
     "text": [
      "The best imputation technique is:  MICE Imputation\n"
     ]
    }
   ],
   "source": [
    "r_squares = {'Mean Imputation': lm_mean.rsquared_adj, \n",
    "             'KNN Imputation': lm_KNN.rsquared_adj, \n",
    "             'MICE Imputation': lm_MICE.rsquared_adj}\n",
    "\n",
    "# Select best R-squared\n",
    "best_imputation = max(r_squares, key=r_squares.get)\n",
    "\n",
    "print(\"The best imputation technique is: \", best_imputation)"
   ]
  },
  {
   "cell_type": "markdown",
   "metadata": {},
   "source": [
    "<b>Congratulations! You have performed a numerical analysis of the linear models of different imputations. You will next perform graphical analysis of the linear models!</b>"
   ]
  },
  {
   "cell_type": "markdown",
   "metadata": {},
   "source": [
    "<font size=\"5\"><b>Comparing density plots</b></font><br/>\n",
    "\n",
    "The different imputations that you have performed earlier can be graphically compared with their density plots to realize which dataset has the most similar distribution compared to the original dataset. You will also be able to interpret which dataset has a biased imputation.\n",
    "\n",
    "The DataFrames <mark>diabetes_cc</mark>, <mark>diabetes_mean_imputed</mark>, <mark>diabetes_knn_imputed</mark> and <mark>diabetes_mice_imputed</mark> have already been loaded for you to use along with <mark>matplotlib.pyplot</mark> as <mark>plt</mark>.\n",
    "\n",
    "<b>Instructions</b>\n",
    "\n",
    "- Plot a density plot for the 'Skin_Fold' column for each DataFrame.\n",
    "- Set the labels using the labels list.\n",
    "- Set the label for the x-axis to 'Skin Fold'."
   ]
  },
  {
   "cell_type": "code",
   "execution_count": 20,
   "metadata": {},
   "outputs": [],
   "source": [
    "import matplotlib.pyplot as plt\n",
    "%matplotlib inline"
   ]
  },
  {
   "cell_type": "code",
   "execution_count": 21,
   "metadata": {},
   "outputs": [
    {
     "data": {
      "image/png": "[encoded data removed]",
      "text/plain": [
       "<Figure size 432x288 with 1 Axes>"
      ]
     },
     "metadata": {
      "needs_background": "light"
     },
     "output_type": "display_data"
    }
   ],
   "source": [
    "# Plot graphs of imputed DataFrames and the complete case\n",
    "diabetes_cc['Skin_Fold'].plot(kind='kde', c='red', linewidth=3)\n",
    "diabetes_mean_imputed['Skin_Fold'].plot(kind='kde')\n",
    "diabetes_knn_imputed['Skin_Fold'].plot(kind='kde')\n",
    "diabetes_mice_imputed['Skin_Fold'].plot(kind='kde')\n",
    "\n",
    "# Create labels for the four DataFrames\n",
    "labels = ['Baseline (Complete Case)', 'Mean Imputation', 'KNN Imputation', 'MICE Imputation']\n",
    "plt.legend(labels)\n",
    "\n",
    "# Set the x-label as Skin Fold\n",
    "plt.xlabel('Skin Fold')\n",
    "\n",
    "plt.show()"
   ]
  },
  {
   "cell_type": "markdown",
   "metadata": {},
   "source": [
    "<b>Congratuations! You have now mastered the art of dealing with missing data!</b>"
   ]
  }
 ],
 "metadata": {
  "kernelspec": {
   "display_name": "Python 3",
   "language": "python",
   "name": "python3"
  },
  "language_info": {
   "codemirror_mode": {
    "name": "ipython",
    "version": 3
   },
   "file_extension": ".py",
   "mimetype": "text/x-python",
   "name": "python",
   "nbconvert_exporter": "python",
   "pygments_lexer": "ipython3",
   "version": "3.7.4"
  },
  "varInspector": {
   "cols": {
    "lenName": 16,
    "lenType": 16,
    "lenVar": 40
   },
   "kernels_config": {
    "python": {
     "delete_cmd_postfix": "",
     "delete_cmd_prefix": "del ",
     "library": "var_list.py",
     "varRefreshCmd": "print(var_dic_list())"
    },
    "r": {
     "delete_cmd_postfix": ") ",
     "delete_cmd_prefix": "rm(",
     "library": "var_list.r",
     "varRefreshCmd": "cat(var_dic_list()) "
    }
   },
   "types_to_exclude": [
    "module",
    "function",
    "builtin_function_or_method",
    "instance",
    "_Feature"
   ],
   "window_display": false
  }
 },
 "nbformat": 4,
 "nbformat_minor": 2
}
