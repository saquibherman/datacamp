{
 "cells": [
  {
   "cell_type": "markdown",
   "metadata": {},
   "source": [
    "# Course Description\n",
    "Tired of working with messy data? Did you know that most of a data scientist's time is spent in finding, cleaning and reorganizing data?! Well turns out you can clean your data in a smart way! In this course Dealing with Missing Data in Python, you'll do just that! You'll learn to address missing values for numerical, and categorical data as well as time-series data. You'll learn to see the patterns the missing data exhibits! While working with air quality and diabetes data, you'll also learn to analyze, impute and evaluate the effects of imputing the data."
   ]
  },
  {
   "cell_type": "markdown",
   "metadata": {},
   "source": [
    "# 1. The Problem With Missing Data\n",
    "Get familiar with missing data and how it impacts your analysis! Learn about different null value operations in your dataset, how to find missing data and summarizing missingness in your data."
   ]
  },
  {
   "cell_type": "markdown",
   "metadata": {},
   "source": [
    "<font size=\"5\"><b>Steps for treating missing values</b></font><br/>\n",
    "Arrange the statements in the order of steps to be taken for dealing with missing data.\n",
    "\n",
    "A. Evaluate & compare the performance of the treated/imputed dataset. <br />\n",
    "B. Convert all missing values to null values. <br />\n",
    "C. Appropriately delete or impute missing values. <br />\n",
    "D. Analyze the amount and type of missingness in the data.<br /><br />\n",
    "\n",
    "Answer: B, D, C, A<br />"
   ]
  },
  {
   "cell_type": "markdown",
   "metadata": {},
   "source": [
    "<font size=\"5\"><b>Null value operations</b><br /></font>\n",
    "While working with missing data, you'll have to store these missing values as an empty type. This way, you will easily be able to identify them, replace them or play with them! This is why we have the None and numpy.nan types. You need to be able to differentiate clearly between the two types.[br/]\n",
    "\n",
    "In this exercise, you will compare the differences between the behavior of <b>None</b> and <b>numpy.nan</b> types on application of arithmetic and logical operations. <b>numpy</b> has already been imported as <b>np</b>. The try and except blocks have been used to avoid errors."
   ]
  },
  {
   "cell_type": "code",
   "execution_count": 1,
   "metadata": {},
   "outputs": [],
   "source": [
    "# Importing numpy\n",
    "import numpy as np"
   ]
  },
  {
   "cell_type": "code",
   "execution_count": 2,
   "metadata": {},
   "outputs": [
    {
     "name": "stdout",
     "output_type": "stream",
     "text": [
      "'None' does not support Arithmetic Operations!!\n"
     ]
    }
   ],
   "source": [
    "# Sum two None values and print the output.\n",
    "\n",
    "try:\n",
    "  # Print the sum of two None's\n",
    "  print(\"Add operation output of 'None': \", None + None)\n",
    "\n",
    "except TypeError:\n",
    "  # Print if error\n",
    "  print(\"'None' does not support Arithmetic Operations!!\")"
   ]
  },
  {
   "cell_type": "code",
   "execution_count": 3,
   "metadata": {},
   "outputs": [
    {
     "name": "stdout",
     "output_type": "stream",
     "text": [
      "Add operation output of 'np.nan':  nan\n"
     ]
    }
   ],
   "source": [
    "# Sum two np.nan and print the output.\n",
    "\n",
    "try:\n",
    "  # Print the sum of two np.nan's\n",
    "  print(\"Add operation output of 'np.nan': \", np.nan + np.nan)\n",
    "\n",
    "except TypeError:\n",
    "  # Print if error\n",
    "  print(\"'np.nan' does not support Arithmetic Operations!!\")"
   ]
  },
  {
   "cell_type": "code",
   "execution_count": 4,
   "metadata": {},
   "outputs": [
    {
     "name": "stdout",
     "output_type": "stream",
     "text": [
      "OR operation output of 'None':  None\n"
     ]
    }
   ],
   "source": [
    "# Print the output of logical or of two None.\n",
    "\n",
    "try:\n",
    "  # Print the output of logical OR of two None's\n",
    "  print(\"OR operation output of 'None': \", None or None)\n",
    "\n",
    "except TypeError:\n",
    "  # Print if error\n",
    "  print(\"'None' does not support Logical Operations!!\")"
   ]
  },
  {
   "cell_type": "code",
   "execution_count": 5,
   "metadata": {},
   "outputs": [
    {
     "name": "stdout",
     "output_type": "stream",
     "text": [
      "OR operation output of 'np.nan':  nan\n"
     ]
    }
   ],
   "source": [
    "# Print the output of logical or of two np.nan.\n",
    "\n",
    "try:\n",
    "  # Print the output of logical OR of two np.nan's\n",
    "  print(\"OR operation output of 'np.nan': \", np.nan or np.nan)\n",
    "\n",
    "except TypeError:\n",
    "  # Print if error\n",
    "  print(\"'np.nan' does not support Logical Operations!!\")\n",
    "    "
   ]
  },
  {
   "cell_type": "markdown",
   "metadata": {},
   "source": [
    "<b>None is of type NoneType while np.nan is of float. This allows np.nan to have both arithmetic and logical operations.<b>"
   ]
  },
  {
   "cell_type": "markdown",
   "metadata": {},
   "source": [
    "<font size=\"5\"><b>Finding Null values</b></font><br />\n",
    "    In the previous exercise, you have observed how the two NULL data types <b>None</b> and the <b>numpy</b> not a number object <b>np.nan</b> behave with respect to arithmetic and logical operations. In this exercise, you'll further understand their behavior by comparing the two types. The <b>numpy</b> package has already been imported as <b>np</b>."
   ]
  },
  {
   "cell_type": "code",
   "execution_count": 6,
   "metadata": {},
   "outputs": [
    {
     "name": "stdout",
     "output_type": "stream",
     "text": [
      "'None' comparison output:  True\n"
     ]
    }
   ],
   "source": [
    "# Compare two None using == and print the output.\n",
    "\n",
    "try:\n",
    "  # Print the comparison of two 'None's\n",
    "  print(\"'None' comparison output: \", None == None)\n",
    "\n",
    "except TypeError:\n",
    "  # Print if error\n",
    "  print(\"'None' does not support this operation!!\")"
   ]
  },
  {
   "cell_type": "code",
   "execution_count": 7,
   "metadata": {},
   "outputs": [
    {
     "name": "stdout",
     "output_type": "stream",
     "text": [
      "'np.nan' comparison output:  False\n"
     ]
    }
   ],
   "source": [
    "# Compare two np.nan using == and print the output.\n",
    "\n",
    "try:\n",
    "  # Print the comparison of two 'np.nan's\n",
    "  print(\"'np.nan' comparison output: \", np.nan == np.nan)\n",
    "\n",
    "except TypeError:\n",
    "  # Print if error  \n",
    "  print(\"'np.nan' does not support this operation!!\")"
   ]
  },
  {
   "cell_type": "code",
   "execution_count": 8,
   "metadata": {},
   "outputs": [
    {
     "name": "stdout",
     "output_type": "stream",
     "text": [
      "Function 'np.isnan()' does not support this Type!!\n"
     ]
    }
   ],
   "source": [
    "# Print whether None is not a number.\n",
    "\n",
    "try:\n",
    "  # Check if 'None' is 'NaN'\n",
    "  print(\"Is 'None' same as nan? \", np.isnan(None))\n",
    "\n",
    "except TypeError:\n",
    "  # Print if error\n",
    "  print(\"Function 'np.isnan()' does not support this Type!!\")"
   ]
  },
  {
   "cell_type": "code",
   "execution_count": 9,
   "metadata": {},
   "outputs": [
    {
     "name": "stdout",
     "output_type": "stream",
     "text": [
      "Is 'np.nan' same as nan?  True\n"
     ]
    }
   ],
   "source": [
    "# Print whether np.nan is not a number.\n",
    "\n",
    "try:\n",
    "  # Check if 'np.nan' is 'NaN'\n",
    "  print(\"Is 'np.nan' same as nan? \", np.isnan(np.nan))\n",
    "\n",
    "except TypeError:\n",
    "  # Print if error\n",
    "  print(\"Function 'np.isnan()' does not support this Type!!\")"
   ]
  },
  {
   "cell_type": "markdown",
   "metadata": {},
   "source": [
    "<b>To check for None, use the comparison operator == and to check for 'NaN' use np.isnan(). Fortunately, pandas intrinsically converts None to NaN values, so that you don't need to worry!</b>"
   ]
  },
  {
   "cell_type": "markdown",
   "metadata": {},
   "source": [
    "<font size=\"5\"><b>Detecting missing values</b></font> <br />\n",
    "\n",
    "Datasets usually come with hidden missing values filled in for missing values like <b>'NA'</b>, <b>'.'</b> or others. In this exercise, you will work with the <b>college</b> dataset which contains various details of college students. Your task is to identify the missing values by analyzing the dataset.\n",
    "\n",
    "To achieve this, you can use the <b>.info()</b> method from <b>pandas</b> and the <b>numpy</b> function <b>sort()</b> along with the <b>.unique()</b> method to clearly distinguish the dummy value representing the missing data.\n",
    "\n",
    "The <b>college.csv</b> file has been loaded for you. The packages <b>numpy</b> and <b>pandas</b> have already been imported as <b>np</b> and <b>pd</b> respectively."
   ]
  },
  {
   "cell_type": "code",
   "execution_count": 10,
   "metadata": {},
   "outputs": [],
   "source": [
    "# Importing pandas\n",
    "import pandas as pd"
   ]
  },
  {
   "cell_type": "code",
   "execution_count": 11,
   "metadata": {
    "code_folding": []
   },
   "outputs": [
    {
     "name": "stdout",
     "output_type": "stream",
     "text": [
      "  gradrat      lenroll rmbrd  private stufac  csat act\n",
      "0      59  5.176149733  3.75      1.0   10.8     .  21\n",
      "1      52  4.779123493  3.74      1.0   17.7     .  21\n",
      "2      75   6.12249281     .      1.0   11.4  1052  24\n",
      "3      56  5.318119994   4.1      1.0   11.6   940  23\n",
      "4      71  5.631211782     .      1.0   18.3     .  17\n"
     ]
    }
   ],
   "source": [
    "# Read the CSV version of the dataset into a pandas DataFrame.\n",
    "\n",
    "# Read the dataset 'college.csv'\n",
    "college = pd.read_csv('college.csv')\n",
    "print(college.head())"
   ]
  },
  {
   "cell_type": "code",
   "execution_count": 12,
   "metadata": {},
   "outputs": [
    {
     "name": "stdout",
     "output_type": "stream",
     "text": [
      "<class 'pandas.core.frame.DataFrame'>\n",
      "RangeIndex: 200 entries, 0 to 199\n",
      "Data columns (total 7 columns):\n",
      "gradrat    200 non-null object\n",
      "lenroll    200 non-null object\n",
      "rmbrd      200 non-null object\n",
      "private    200 non-null float64\n",
      "stufac     200 non-null object\n",
      "csat       200 non-null object\n",
      "act        200 non-null object\n",
      "dtypes: float64(1), object(6)\n",
      "memory usage: 11.1+ KB\n",
      "None\n"
     ]
    }
   ],
   "source": [
    "# Print the DataFrame information.\n",
    "\n",
    "# Print the info of college\n",
    "print(college.info())"
   ]
  },
  {
   "cell_type": "code",
   "execution_count": 13,
   "metadata": {},
   "outputs": [],
   "source": [
    "# Store the unique values of the csat column to csat_unique\n",
    "\n",
    "# Store unique values of 'csat' column to 'csat_unique'\n",
    "csat_unique = college.csat.unique()"
   ]
  },
  {
   "cell_type": "code",
   "execution_count": 14,
   "metadata": {},
   "outputs": [
    {
     "name": "stdout",
     "output_type": "stream",
     "text": [
      "['.' '1000' '1006' '1010' '1013' '1020' '1024' '1026' '1028' '1036' '1039'\n",
      " '1040' '1044' '1045' '1050' '1052' '1060' '1070' '1080' '1092' '1096'\n",
      " '1109' '1111' '1120' '1139' '1150' '1171' '1200' '1210' '1220' '1230'\n",
      " '1270' '1292' '1324' '1381' '741' '763' '764' '782' '800' '802' '810'\n",
      " '813' '814' '816' '825' '830' '832' '837' '843' '846' '850' '853' '854'\n",
      " '860' '863' '867' '871' '880' '881' '885' '890' '891' '895' '897' '900'\n",
      " '902' '905' '911' '917' '919' '923' '937' '940' '943' '947' '950' '951'\n",
      " '964' '970' '979' '980' '989' '992' '994' '996' '997' '998']\n"
     ]
    }
   ],
   "source": [
    "# Sort csat_unique and print the output.\n",
    "\n",
    "# Print the sorted values of csat_unique\n",
    "print(np.sort(csat_unique))"
   ]
  },
  {
   "cell_type": "markdown",
   "metadata": {},
   "source": [
    "<font size=\"5\"><b>Replacing missing values</b></font> <br />\n",
    "\n",
    "In the previous exercise, you analyzed the college dataset and identified that <b>'.'</b> represented a missing value in the data. In this exercise, you will learn the best way to handle such values using the <b>pandas</b> module.\n",
    "\n",
    "You will learn how to handle such values when importing a CSV file into <b>pandas</b> using its <b>read_csv()</b> function and adjusting its <b>na_values</b> argument, which allows you to specify the DataFrame's missing values.\n",
    "\n",
    "The dataset has been loaded as <b>college.csv</b>. Both <b>pandas</b> and <b>numpy</b> have already been imported as <b>pd</b> and <b>np</b> respectively."
   ]
  },
  {
   "cell_type": "code",
   "execution_count": 15,
   "metadata": {},
   "outputs": [
    {
     "name": "stdout",
     "output_type": "stream",
     "text": [
      "   gradrat   lenroll  rmbrd  private  stufac    csat   act\n",
      "0     59.0  5.176150   3.75      1.0    10.8     NaN  21.0\n",
      "1     52.0  4.779123   3.74      1.0    17.7     NaN  21.0\n",
      "2     75.0  6.122493    NaN      1.0    11.4  1052.0  24.0\n",
      "3     56.0  5.318120   4.10      1.0    11.6   940.0  23.0\n",
      "4     71.0  5.631212    NaN      1.0    18.3     NaN  17.0\n"
     ]
    }
   ],
   "source": [
    "# Load the dataset 'college.csv' to the DataFrame college while setting the appropriate missing values.\n",
    "\n",
    "# Read the dataset 'college.csv' with na_values set to '.'\n",
    "college = pd.read_csv('college.csv', na_values='.')\n",
    "print(college.head())"
   ]
  },
  {
   "cell_type": "code",
   "execution_count": 16,
   "metadata": {},
   "outputs": [
    {
     "name": "stdout",
     "output_type": "stream",
     "text": [
      "<class 'pandas.core.frame.DataFrame'>\n",
      "RangeIndex: 200 entries, 0 to 199\n",
      "Data columns (total 7 columns):\n",
      "gradrat    187 non-null float64\n",
      "lenroll    199 non-null float64\n",
      "rmbrd      114 non-null float64\n",
      "private    200 non-null float64\n",
      "stufac     199 non-null float64\n",
      "csat       105 non-null float64\n",
      "act        104 non-null float64\n",
      "dtypes: float64(7)\n",
      "memory usage: 11.1 KB\n",
      "None\n"
     ]
    }
   ],
   "source": [
    "# Print the DataFrame information.\n",
    "\n",
    "# Print the info of college\n",
    "print(college.info())"
   ]
  },
  {
   "cell_type": "markdown",
   "metadata": {},
   "source": [
    "<b>Hurray! You've replaced the null values and you can now observe that all the columns are of type float or int!</b>"
   ]
  },
  {
   "cell_type": "markdown",
   "metadata": {},
   "source": [
    "<font size=\"5\"><b>Replacing hidden missing values</b></font> <br />\n",
    "\n",
    "In the previous two exercises, you worked on identifying and handling missing values while importing a dataset. In this exercise, you will work on identifying hidden missing values in your data and handling them. You'll use the <b>diabetes</b> dataset which has already been loaded for you.\n",
    "\n",
    "The <b>diabetes</b> DataFrame has 0's in the column <b>BMI</b>. But <b>BMI</b> cannot be 0. It should instead be <b>NaN</b>. In this exercise, you'll learn to identify such discrepancies. You'll perform simple data analysis to catch missing values and replace them. Both <b>numpy</b> and <b>pandas</b> have been imported into your DataFrame as <b>np</b> and <b>pd</b> respectively.\n",
    "\n",
    "Additionally, you can play around with the dataset like printing it's <b>.head()</b>, <b>.info()</b> etc. to get more familiar with the dataset."
   ]
  },
  {
   "cell_type": "code",
   "execution_count": 17,
   "metadata": {},
   "outputs": [
    {
     "name": "stdout",
     "output_type": "stream",
     "text": [
      "         Pregnant     Glucose  Diastolic_BP   Skin_Fold  Serum_Insulin  \\\n",
      "count  768.000000  763.000000    733.000000  541.000000     394.000000   \n",
      "mean     3.845052  121.686763     72.405184   29.153420     155.548223   \n",
      "std      3.369578   30.535641     12.382158   10.476982     118.775855   \n",
      "min      0.000000   44.000000     24.000000    7.000000      14.000000   \n",
      "25%      1.000000   99.000000     64.000000   22.000000      76.250000   \n",
      "50%      3.000000  117.000000     72.000000   29.000000     125.000000   \n",
      "75%      6.000000  141.000000     80.000000   36.000000     190.000000   \n",
      "max     17.000000  199.000000    122.000000   99.000000     846.000000   \n",
      "\n",
      "              BMI  Diabetes_Pedigree         Age       Class  \n",
      "count  757.000000         768.000000  768.000000  768.000000  \n",
      "mean    32.457464           0.471876   33.240885    0.348958  \n",
      "std      6.924988           0.331329   11.760232    0.476951  \n",
      "min     18.200000           0.078000   21.000000    0.000000  \n",
      "25%     27.500000           0.243750   24.000000    0.000000  \n",
      "50%     32.300000           0.372500   29.000000    0.000000  \n",
      "75%     36.600000           0.626250   41.000000    1.000000  \n",
      "max     67.100000           2.420000   81.000000    1.000000  \n"
     ]
    }
   ],
   "source": [
    "# Read the dataset 'diabetes.csv'\n",
    "diabetes = pd.read_csv('pima-indians-diabetes data.csv')\n",
    "\n",
    "# Describe the basic statistics of diabetes.\n",
    "\n",
    "# Print the description of the data\n",
    "print(diabetes.describe())"
   ]
  },
  {
   "cell_type": "code",
   "execution_count": 18,
   "metadata": {},
   "outputs": [
    {
     "name": "stdout",
     "output_type": "stream",
     "text": [
      "Series([], Name: BMI, dtype: float64)\n"
     ]
    }
   ],
   "source": [
    "# Isolate the values of BMI which are equal to 0 and store them in zero_bmi.\n",
    "\n",
    "# Store all rows of column 'BMI' which are equal to 0 \n",
    "zero_bmi = diabetes.BMI[diabetes.BMI == 0]\n",
    "print(zero_bmi)"
   ]
  },
  {
   "cell_type": "code",
   "execution_count": 19,
   "metadata": {},
   "outputs": [
    {
     "name": "stderr",
     "output_type": "stream",
     "text": [
      "C:\\Users\\saqui\\Anaconda3\\lib\\site-packages\\ipykernel_launcher.py:4: SettingWithCopyWarning: \n",
      "A value is trying to be set on a copy of a slice from a DataFrame\n",
      "\n",
      "See the caveats in the documentation: http://pandas.pydata.org/pandas-docs/stable/user_guide/indexing.html#returning-a-view-versus-a-copy\n",
      "  after removing the cwd from sys.path.\n"
     ]
    }
   ],
   "source": [
    "# Set all the values in the column BMI that are equal to 0 to np.nan.\n",
    "\n",
    "# Set the 0 values of column 'BMI' to np.nan\n",
    "diabetes.BMI[diabetes.BMI == 0] = np.nan"
   ]
  },
  {
   "cell_type": "code",
   "execution_count": 20,
   "metadata": {},
   "outputs": [
    {
     "name": "stdout",
     "output_type": "stream",
     "text": [
      "9     NaN\n",
      "49    NaN\n",
      "60    NaN\n",
      "81    NaN\n",
      "145   NaN\n",
      "371   NaN\n",
      "426   NaN\n",
      "494   NaN\n",
      "522   NaN\n",
      "684   NaN\n",
      "706   NaN\n",
      "Name: BMI, dtype: float64\n"
     ]
    }
   ],
   "source": [
    "# Print the rows with NaN values in BMI.\n",
    "\n",
    "# Print the 'NaN' values in the column BMI\n",
    "print(diabetes.BMI[np.isnan(diabetes.BMI)])"
   ]
  },
  {
   "cell_type": "markdown",
   "metadata": {},
   "source": [
    "<b>Kudos! You've learnt how to deal with pseudo missing values. In the next lesson you'll learn to analyze missing values and create a summary!</b>"
   ]
  },
  {
   "cell_type": "markdown",
   "metadata": {},
   "source": [
    "<font size=\"5\"><b>Analyzing missingness percentage</b></font> <br />\n",
    "\n",
    "Before jumping into treating missing data, it is essential to analyze the various factors surrounding missing data. The elementary step in analyzing the data is to analyze the amount of missingness, that is the number of values missing for a variable. In this exercise, you'll calculate the total number of missing values per column and also find out the percentage of missing values per column. The <b>'airquality'</b> dataset which contains weather data collected from various sensors has been loaded for you.\n",
    "\n",
    "In this exercise, you will load the dataset by parsing the <b>Date</b> column and then calculate the sum of missing values and the degree of missingness in percent on the nullity DataFrame"
   ]
  },
  {
   "cell_type": "code",
   "execution_count": 21,
   "metadata": {},
   "outputs": [],
   "source": [
    "# Load 'air-quality.csv' into a pandas DataFrame while parsing the 'Date' column and setting it to \n",
    "# the index column as well.\n",
    "\n",
    "# Load the airquality dataset\n",
    "airquality = pd.read_csv('air-quality.csv', parse_dates=['Date'], index_col='Date')"
   ]
  },
  {
   "cell_type": "code",
   "execution_count": 22,
   "metadata": {},
   "outputs": [
    {
     "name": "stdout",
     "output_type": "stream",
     "text": [
      "            Ozone  Solar   Wind   Temp\n",
      "Date                                  \n",
      "1976-05-01  False  False  False  False\n",
      "1976-05-02  False  False  False  False\n",
      "1976-05-03  False  False  False  False\n",
      "1976-05-04  False  False  False  False\n",
      "1976-05-05   True   True  False  False\n"
     ]
    }
   ],
   "source": [
    "# Find the number of missing values in airquality and store it into airquality_nullity.\n",
    "\n",
    "# Create a nullity DataFrame airquality_nullity\n",
    "airquality_nullity = airquality.isnull()\n",
    "print(airquality_nullity.head())"
   ]
  },
  {
   "cell_type": "code",
   "execution_count": 23,
   "metadata": {},
   "outputs": [
    {
     "name": "stdout",
     "output_type": "stream",
     "text": [
      "Total Missing Values:\n",
      " Ozone    37\n",
      "Solar     7\n",
      "Wind      0\n",
      "Temp      0\n",
      "dtype: int64\n"
     ]
    }
   ],
   "source": [
    "# Calculate the number of missing values in airquality.\n",
    "\n",
    "# Calculate total of missing values\n",
    "missing_values_sum = airquality_nullity.sum()\n",
    "print('Total Missing Values:\\n', missing_values_sum)"
   ]
  },
  {
   "cell_type": "code",
   "execution_count": 24,
   "metadata": {},
   "outputs": [
    {
     "name": "stdout",
     "output_type": "stream",
     "text": [
      "Percentage of Missing Values:\n",
      " Ozone    24.183007\n",
      "Solar     4.575163\n",
      "Wind      0.000000\n",
      "Temp      0.000000\n",
      "dtype: float64\n"
     ]
    }
   ],
   "source": [
    "# Calculate the percentage of missing values in airquality.\n",
    "\n",
    "# Calculate percentage of missing values\n",
    "missing_values_percent = airquality_nullity.mean() * 100\n",
    "print('Percentage of Missing Values:\\n', missing_values_percent)"
   ]
  },
  {
   "cell_type": "markdown",
   "metadata": {},
   "source": [
    "<b>Now that you've calculated the numerical values, it's time to visualize them graphically!</b>"
   ]
  },
  {
   "cell_type": "markdown",
   "metadata": {},
   "source": [
    "<font size=\"5\"><b>Visualize missingness</b></font> <br />\n",
    "\n",
    "In the previous exercise, you calculated the number of missing values and the percentage of missingness for each column. However, this is usually not enough and preference is to visualize them graphically.\n",
    "\n",
    "You'll use the <mark>misssingno</mark> package which is built for visualizing missing values. The <mark>airquality</mark> DataFrame has already been imported, and the <mark>pandas</mark> library as <mark>pd</mark>.\n",
    "\n",
    "You will visualize the missingness by plotting a bar chart and a nullity matrix of the missing values.\n",
    "\n",
    "<i>Note that we've not used a proprietary <mark>display()</mark> function instead use <mark>plt.show()</mark> to make it easier for you to view the output.</i>"
   ]
  },
  {
   "cell_type": "code",
   "execution_count": 25,
   "metadata": {},
   "outputs": [
    {
     "data": {
      "image/png": "[encoded data removed]",
      "text/plain": [
       "<Figure size 1728x720 with 3 Axes>"
      ]
     },
     "metadata": {
      "needs_background": "light"
     },
     "output_type": "display_data"
    }
   ],
   "source": [
    "# Plot a bar chart of the missing values in airquality.\n",
    "import matplotlib.pyplot as plt\n",
    "%matplotlib inline\n",
    "\n",
    "# Import missingno as msno\n",
    "import missingno as msno\n",
    "\n",
    "# Plot amount of missingness\n",
    "msno.bar(airquality)\n",
    "\n",
    "# Display bar chart of missing values\n",
    "plt.show()"
   ]
  },
  {
   "cell_type": "code",
   "execution_count": 26,
   "metadata": {},
   "outputs": [
    {
     "data": {
      "image/png": "[encoded data removed]",
      "text/plain": [
       "<Figure size 1800x720 with 2 Axes>"
      ]
     },
     "metadata": {
      "needs_background": "light"
     },
     "output_type": "display_data"
    }
   ],
   "source": [
    "# Plot the nullity matrix of airquality.\n",
    "\n",
    "# Plot nullity matrix of airquality\n",
    "msno.matrix(airquality)\n",
    "\n",
    "# Display nullity matrix\n",
    "plt.show()"
   ]
  },
  {
   "cell_type": "code",
   "execution_count": 27,
   "metadata": {},
   "outputs": [
    {
     "data": {
      "image/png": "[encoded data removed]",
      "text/plain": [
       "<Figure size 1800x720 with 2 Axes>"
      ]
     },
     "metadata": {
      "needs_background": "light"
     },
     "output_type": "display_data"
    }
   ],
   "source": [
    "# Plot the nullity matrix of airquality across a monthly frequency.\n",
    "\n",
    "# Plot nullity matrix of airquality with frequency 'M'\n",
    "msno.matrix(airquality,freq='M')\n",
    "\n",
    "# Display nullity matrix\n",
    "plt.show()"
   ]
  },
  {
   "cell_type": "code",
   "execution_count": 28,
   "metadata": {},
   "outputs": [
    {
     "data": {
      "image/png": "[encoded data removed]",
      "text/plain": [
       "<Figure size 1800x720 with 2 Axes>"
      ]
     },
     "metadata": {
      "needs_background": "light"
     },
     "output_type": "display_data"
    }
   ],
   "source": [
    "# Splice airquality from 'May-1976' to 'Jul-1976' and plot its nullity matrix.\n",
    "\n",
    "# Plot the sliced nullity matrix of airquality with frequency 'M'\n",
    "msno.matrix(airquality.loc['May-1976':'Jul-1976'], freq='M')\n",
    "\n",
    "# Display nullity matrix\n",
    "plt.show()"
   ]
  },
  {
   "cell_type": "markdown",
   "metadata": {},
   "source": [
    "<b>Congratulations! You've had a great start! You'll learn to further analyze missing data and finally treat them in the next chapters!</b>"
   ]
  }
 ],
 "metadata": {
  "kernelspec": {
   "display_name": "Python 3",
   "language": "python",
   "name": "python3"
  },
  "language_info": {
   "codemirror_mode": {
    "name": "ipython",
    "version": 3
   },
   "file_extension": ".py",
   "mimetype": "text/x-python",
   "name": "python",
   "nbconvert_exporter": "python",
   "pygments_lexer": "ipython3",
   "version": "3.7.4"
  },
  "varInspector": {
   "cols": {
    "lenName": 16,
    "lenType": 16,
    "lenVar": 40
   },
   "kernels_config": {
    "python": {
     "delete_cmd_postfix": "",
     "delete_cmd_prefix": "del ",
     "library": "var_list.py",
     "varRefreshCmd": "print(var_dic_list())"
    },
    "r": {
     "delete_cmd_postfix": ") ",
     "delete_cmd_prefix": "rm(",
     "library": "var_list.r",
     "varRefreshCmd": "cat(var_dic_list()) "
    }
   },
   "types_to_exclude": [
    "module",
    "function",
    "builtin_function_or_method",
    "instance",
    "_Feature"
   ],
   "window_display": false
  }
 },
 "nbformat": 4,
 "nbformat_minor": 2
}
