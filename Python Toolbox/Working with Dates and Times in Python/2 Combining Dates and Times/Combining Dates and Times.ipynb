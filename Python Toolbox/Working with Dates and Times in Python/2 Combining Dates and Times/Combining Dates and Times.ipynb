{
 "cells": [
  {
   "cell_type": "markdown",
   "metadata": {},
   "source": [
    "# 2 Combining Dates and Times\n",
    "\n",
    "Bike sharing programs have swept through cities around the world -- and luckily for us, every trip gets recorded! Working with all of the comings and goings of one bike in Washington, D.C., you'll practice working with dates and times together. You'll parse dates and times from text, analyze peak trip times, calculate ride durations, and more."
   ]
  },
  {
   "cell_type": "markdown",
   "metadata": {},
   "source": [
    "<font size=\"5\"><b>Creating datetimes by hand</b></font><br/>\n",
    "\n",
    "Often you create <mark>datetime</mark> objects based on outside data. Sometimes though, you want to create a <mark>datetime</mark> object from scratch.\n",
    "\n",
    "You're going to create a few different <mark>datetime</mark> objects from scratch to get the hang of that process. These come from the bikeshare data set that you'll use throughout the rest of the chapter.\n",
    "\n",
    "<b>Instructions</b>\n",
    "- Import the datetime class.\n",
    "- Create a datetime for October 1, 2017 at 15:26:26.\n",
    "- Print the results in ISO format."
   ]
  },
  {
   "cell_type": "code",
   "execution_count": 1,
   "metadata": {},
   "outputs": [
    {
     "name": "stdout",
     "output_type": "stream",
     "text": [
      "2017-10-01T15:26:26\n"
     ]
    }
   ],
   "source": [
    "# Import datetime\n",
    "from datetime import datetime\n",
    "\n",
    "# Create a datetime object\n",
    "dt = datetime(2017, 10, 1, 15, 26, 26)\n",
    "\n",
    "# Print the results in ISO 8601 format\n",
    "print(dt.isoformat())"
   ]
  },
  {
   "cell_type": "markdown",
   "metadata": {},
   "source": [
    "<b>Instructions</b>\n",
    "- Import the datetime class.\n",
    "- Create a datetime for December 31, 2017 at 15:19:13.\n",
    "- Print the results in ISO format."
   ]
  },
  {
   "cell_type": "code",
   "execution_count": 2,
   "metadata": {},
   "outputs": [
    {
     "name": "stdout",
     "output_type": "stream",
     "text": [
      "2017-12-31T15:19:13\n"
     ]
    }
   ],
   "source": [
    "# Import datetime\n",
    "from datetime import datetime\n",
    "\n",
    "# Create a datetime object\n",
    "dt = datetime(2017, 12, 31, 15, 19, 13)\n",
    "\n",
    "# Print the results in ISO 8601 format\n",
    "print(dt.isoformat())"
   ]
  },
  {
   "cell_type": "markdown",
   "metadata": {},
   "source": [
    "<b>Instructions</b>\n",
    "- Create a new datetime by replacing the year in dt with 1917 (instead of 2017)"
   ]
  },
  {
   "cell_type": "code",
   "execution_count": 3,
   "metadata": {},
   "outputs": [
    {
     "name": "stdout",
     "output_type": "stream",
     "text": [
      "1917-12-31 15:19:13\n"
     ]
    }
   ],
   "source": [
    "# Import datetime\n",
    "from datetime import datetime\n",
    "\n",
    "# Create a datetime object\n",
    "dt = datetime(2017, 12, 31, 15, 19, 13)\n",
    "\n",
    "# Replace the year with 1917\n",
    "dt_old = dt.replace(year = 1917)\n",
    "\n",
    "# Print the results in ISO 8601 format\n",
    "print(dt_old)"
   ]
  },
  {
   "cell_type": "markdown",
   "metadata": {},
   "source": [
    "<b>Well done! You can now create datetime objects.</b>"
   ]
  },
  {
   "cell_type": "code",
   "execution_count": 4,
   "metadata": {
    "code_folding": [
     1
    ]
   },
   "outputs": [],
   "source": [
    "#define onebike_datetime_strings\n",
    "onebike_datetime_strings = [('2017-10-01 15:23:25', '2017-10-01 15:26:26'),\n",
    " ('2017-10-01 15:42:57', '2017-10-01 17:49:59'),\n",
    " ('2017-10-02 06:37:10', '2017-10-02 06:42:53'),\n",
    " ('2017-10-02 08:56:45', '2017-10-02 09:18:03'),\n",
    " ('2017-10-02 18:23:48', '2017-10-02 18:45:05'),\n",
    " ('2017-10-02 18:48:08', '2017-10-02 19:10:54'),\n",
    " ('2017-10-02 19:18:10', '2017-10-02 19:31:45'),\n",
    " ('2017-10-02 19:37:32', '2017-10-02 19:46:37'),\n",
    " ('2017-10-03 08:24:16', '2017-10-03 08:32:27'),\n",
    " ('2017-10-03 18:17:07', '2017-10-03 18:27:46'),\n",
    " ('2017-10-03 19:24:10', '2017-10-03 19:52:08'),\n",
    " ('2017-10-03 20:17:06', '2017-10-03 20:23:52'),\n",
    " ('2017-10-03 20:45:21', '2017-10-03 20:57:10'),\n",
    " ('2017-10-04 07:04:57', '2017-10-04 07:13:31'),\n",
    " ('2017-10-04 07:13:42', '2017-10-04 07:21:54'),\n",
    " ('2017-10-04 14:22:12', '2017-10-04 14:50:00'),\n",
    " ('2017-10-04 15:07:27', '2017-10-04 15:44:49'),\n",
    " ('2017-10-04 15:46:41', '2017-10-04 16:32:33'),\n",
    " ('2017-10-04 16:34:44', '2017-10-04 16:46:59'),\n",
    " ('2017-10-04 17:26:06', '2017-10-04 17:31:36'),\n",
    " ('2017-10-04 17:42:03', '2017-10-04 17:50:41'),\n",
    " ('2017-10-05 07:49:02', '2017-10-05 08:12:55'),\n",
    " ('2017-10-05 08:26:21', '2017-10-05 08:29:45'),\n",
    " ('2017-10-05 08:33:27', '2017-10-05 08:38:31'),\n",
    " ('2017-10-05 16:35:35', '2017-10-05 16:51:52'),\n",
    " ('2017-10-05 17:53:31', '2017-10-05 18:16:50'),\n",
    " ('2017-10-06 08:17:17', '2017-10-06 08:38:01'),\n",
    " ('2017-10-06 11:39:40', '2017-10-06 11:50:38'),\n",
    " ('2017-10-06 12:59:54', '2017-10-06 13:13:14'),\n",
    " ('2017-10-06 13:43:05', '2017-10-06 14:14:56'),\n",
    " ('2017-10-06 14:28:15', '2017-10-06 15:09:26'),\n",
    " ('2017-10-06 15:50:10', '2017-10-06 16:12:34'),\n",
    " ('2017-10-06 16:32:16', '2017-10-06 16:39:31'),\n",
    " ('2017-10-06 16:44:08', '2017-10-06 16:48:39'),\n",
    " ('2017-10-06 16:53:43', '2017-10-06 17:09:03'),\n",
    " ('2017-10-07 11:38:55', '2017-10-07 11:53:06'),\n",
    " ('2017-10-07 14:03:36', '2017-10-07 14:07:05'),\n",
    " ('2017-10-07 14:20:03', '2017-10-07 14:27:36'),\n",
    " ('2017-10-07 14:30:50', '2017-10-07 14:44:51'),\n",
    " ('2017-10-08 00:28:26', '2017-10-08 00:30:48'),\n",
    " ('2017-10-08 11:16:21', '2017-10-08 11:33:24'),\n",
    " ('2017-10-08 12:37:03', '2017-10-08 13:01:29'),\n",
    " ('2017-10-08 13:30:37', '2017-10-08 13:57:53'),\n",
    " ('2017-10-08 14:16:40', '2017-10-08 15:07:19'),\n",
    " ('2017-10-08 15:23:50', '2017-10-08 15:50:01'),\n",
    " ('2017-10-08 15:54:12', '2017-10-08 16:17:42'),\n",
    " ('2017-10-08 16:28:52', '2017-10-08 16:35:18'),\n",
    " ('2017-10-08 23:08:14', '2017-10-08 23:33:41'),\n",
    " ('2017-10-08 23:34:49', '2017-10-08 23:45:11'),\n",
    " ('2017-10-08 23:46:47', '2017-10-09 00:10:57'),\n",
    " ('2017-10-09 00:12:58', '2017-10-09 00:36:40'),\n",
    " ('2017-10-09 00:37:02', '2017-10-09 00:53:33'),\n",
    " ('2017-10-09 01:23:29', '2017-10-09 01:48:13'),\n",
    " ('2017-10-09 01:49:25', '2017-10-09 02:13:35'),\n",
    " ('2017-10-09 02:14:11', '2017-10-09 02:29:40'),\n",
    " ('2017-10-09 13:04:32', '2017-10-09 13:13:25'),\n",
    " ('2017-10-09 14:30:10', '2017-10-09 14:38:55'),\n",
    " ('2017-10-09 15:06:47', '2017-10-09 15:11:30'),\n",
    " ('2017-10-09 16:43:25', '2017-10-09 16:45:38'),\n",
    " ('2017-10-10 15:32:58', '2017-10-10 15:51:24'),\n",
    " ('2017-10-10 16:47:55', '2017-10-10 17:03:47'),\n",
    " ('2017-10-10 17:51:05', '2017-10-10 18:00:18'),\n",
    " ('2017-10-10 18:08:12', '2017-10-10 18:19:11'),\n",
    " ('2017-10-10 19:09:35', '2017-10-10 19:14:32'),\n",
    " ('2017-10-10 19:17:11', '2017-10-10 19:23:08'),\n",
    " ('2017-10-10 19:28:11', '2017-10-10 19:44:40'),\n",
    " ('2017-10-10 19:55:35', '2017-10-10 20:11:54'),\n",
    " ('2017-10-10 22:20:43', '2017-10-10 22:33:23'),\n",
    " ('2017-10-11 04:40:52', '2017-10-11 04:59:22'),\n",
    " ('2017-10-11 06:28:58', '2017-10-11 06:40:13'),\n",
    " ('2017-10-11 16:41:07', '2017-10-11 17:01:14'),\n",
    " ('2017-10-12 08:08:30', '2017-10-12 08:35:03'),\n",
    " ('2017-10-12 08:47:02', '2017-10-12 08:59:50'),\n",
    " ('2017-10-12 13:13:39', '2017-10-12 13:37:45'),\n",
    " ('2017-10-12 13:40:12', '2017-10-12 13:48:17'),\n",
    " ('2017-10-12 13:49:56', '2017-10-12 13:53:16'),\n",
    " ('2017-10-12 14:33:18', '2017-10-12 14:39:57'),\n",
    " ('2017-10-13 15:55:39', '2017-10-13 15:59:41'),\n",
    " ('2017-10-17 17:58:48', '2017-10-17 18:01:38'),\n",
    " ('2017-10-19 20:21:45', '2017-10-19 20:29:15'),\n",
    " ('2017-10-19 21:11:39', '2017-10-19 21:29:37'),\n",
    " ('2017-10-19 21:30:01', '2017-10-19 21:47:23'),\n",
    " ('2017-10-19 21:47:34', '2017-10-19 21:57:07'),\n",
    " ('2017-10-19 21:57:24', '2017-10-19 22:09:52'),\n",
    " ('2017-10-21 12:24:09', '2017-10-21 12:36:24'),\n",
    " ('2017-10-21 12:36:37', '2017-10-21 12:42:13'),\n",
    " ('2017-10-21 13:47:43', '2017-10-22 11:09:36'),\n",
    " ('2017-10-22 13:28:53', '2017-10-22 13:31:44'),\n",
    " ('2017-10-22 13:47:05', '2017-10-22 13:56:33'),\n",
    " ('2017-10-22 14:26:41', '2017-10-22 14:32:39'),\n",
    " ('2017-10-22 14:54:41', '2017-10-22 15:09:58'),\n",
    " ('2017-10-22 16:40:29', '2017-10-22 16:51:40'),\n",
    " ('2017-10-22 17:58:46', '2017-10-22 18:28:37'),\n",
    " ('2017-10-22 18:45:16', '2017-10-22 18:50:34'),\n",
    " ('2017-10-22 18:56:22', '2017-10-22 19:11:10'),\n",
    " ('2017-10-23 10:14:08', '2017-10-23 10:35:32'),\n",
    " ('2017-10-23 11:29:36', '2017-10-23 14:38:34'),\n",
    " ('2017-10-23 15:04:52', '2017-10-23 15:32:58'),\n",
    " ('2017-10-23 15:33:48', '2017-10-23 17:06:47'),\n",
    " ('2017-10-23 17:13:16', '2017-10-23 19:31:26'),\n",
    " ('2017-10-23 19:55:03', '2017-10-23 20:25:53'),\n",
    " ('2017-10-23 21:47:54', '2017-10-23 22:18:04'),\n",
    " ('2017-10-23 22:34:12', '2017-10-23 22:48:42'),\n",
    " ('2017-10-24 06:55:01', '2017-10-24 07:02:17'),\n",
    " ('2017-10-24 14:56:07', '2017-10-24 15:03:16'),\n",
    " ('2017-10-24 15:51:36', '2017-10-24 15:59:50'),\n",
    " ('2017-10-24 16:31:10', '2017-10-24 16:55:09'),\n",
    " ('2017-10-28 14:26:14', '2017-10-28 14:32:34'),\n",
    " ('2017-11-01 09:41:54', '2017-11-01 09:52:23'),\n",
    " ('2017-11-01 20:16:11', '2017-11-01 20:32:13'),\n",
    " ('2017-11-02 19:44:29', '2017-11-02 19:50:56'),\n",
    " ('2017-11-02 20:14:37', '2017-11-02 20:30:29'),\n",
    " ('2017-11-02 21:35:47', '2017-11-02 21:38:57'),\n",
    " ('2017-11-03 09:59:27', '2017-11-03 10:11:46'),\n",
    " ('2017-11-03 10:13:22', '2017-11-03 10:32:02'),\n",
    " ('2017-11-03 10:44:25', '2017-11-03 10:50:34'),\n",
    " ('2017-11-03 16:06:43', '2017-11-03 16:44:38'),\n",
    " ('2017-11-03 16:45:54', '2017-11-03 17:00:27'),\n",
    " ('2017-11-03 17:07:15', '2017-11-03 17:35:05'),\n",
    " ('2017-11-03 17:36:05', '2017-11-03 17:46:48'),\n",
    " ('2017-11-03 17:50:31', '2017-11-03 18:00:03'),\n",
    " ('2017-11-03 19:22:56', '2017-11-03 19:45:51'),\n",
    " ('2017-11-04 13:14:10', '2017-11-04 13:26:15'),\n",
    " ('2017-11-04 14:18:37', '2017-11-04 14:30:05'),\n",
    " ('2017-11-04 14:45:59', '2017-11-04 15:03:20'),\n",
    " ('2017-11-04 15:16:03', '2017-11-04 15:44:30'),\n",
    " ('2017-11-04 16:37:46', '2017-11-04 16:58:22'),\n",
    " ('2017-11-04 17:13:19', '2017-11-04 17:34:50'),\n",
    " ('2017-11-04 18:10:34', '2017-11-04 18:58:44'),\n",
    " ('2017-11-05 01:56:50', '2017-11-05 01:01:04'),\n",
    " ('2017-11-05 08:33:33', '2017-11-05 08:53:46'),\n",
    " ('2017-11-05 08:58:08', '2017-11-05 09:03:39'),\n",
    " ('2017-11-05 11:05:08', '2017-11-05 11:30:05'),\n",
    " ('2017-11-06 08:50:18', '2017-11-06 08:59:05'),\n",
    " ('2017-11-06 09:04:03', '2017-11-06 09:13:47'),\n",
    " ('2017-11-06 16:19:36', '2017-11-06 17:02:55'),\n",
    " ('2017-11-06 17:21:27', '2017-11-06 17:34:06'),\n",
    " ('2017-11-06 17:36:01', '2017-11-06 17:57:32'),\n",
    " ('2017-11-06 17:59:52', '2017-11-06 18:15:08'),\n",
    " ('2017-11-06 18:18:36', '2017-11-06 18:21:17'),\n",
    " ('2017-11-06 19:24:31', '2017-11-06 19:37:57'),\n",
    " ('2017-11-06 19:49:16', '2017-11-06 20:03:14'),\n",
    " ('2017-11-07 07:50:48', '2017-11-07 08:01:32'),\n",
    " ('2017-11-08 13:11:51', '2017-11-08 13:18:05'),\n",
    " ('2017-11-08 21:34:47', '2017-11-08 21:46:05'),\n",
    " ('2017-11-08 22:02:30', '2017-11-08 22:04:47'),\n",
    " ('2017-11-09 07:01:11', '2017-11-09 07:12:10'),\n",
    " ('2017-11-09 08:02:02', '2017-11-09 08:08:28'),\n",
    " ('2017-11-09 08:19:59', '2017-11-09 08:32:24'),\n",
    " ('2017-11-09 08:41:31', '2017-11-09 08:48:59'),\n",
    " ('2017-11-09 09:00:06', '2017-11-09 09:09:24'),\n",
    " ('2017-11-09 09:09:37', '2017-11-09 09:24:25'),\n",
    " ('2017-11-09 13:14:37', '2017-11-09 13:25:39'),\n",
    " ('2017-11-09 15:20:07', '2017-11-09 15:31:10'),\n",
    " ('2017-11-09 18:47:08', '2017-11-09 18:53:10'),\n",
    " ('2017-11-09 23:35:02', '2017-11-09 23:43:35'),\n",
    " ('2017-11-10 07:51:33', '2017-11-10 08:02:28'),\n",
    " ('2017-11-10 08:38:28', '2017-11-10 08:42:09'),\n",
    " ('2017-11-11 18:05:25', '2017-11-11 18:13:14'),\n",
    " ('2017-11-11 19:39:12', '2017-11-11 19:46:22'),\n",
    " ('2017-11-11 21:13:19', '2017-11-11 21:16:31'),\n",
    " ('2017-11-12 09:46:19', '2017-11-12 09:51:43'),\n",
    " ('2017-11-13 13:33:42', '2017-11-13 13:54:15'),\n",
    " ('2017-11-14 08:40:29', '2017-11-14 08:55:52'),\n",
    " ('2017-11-15 06:14:05', '2017-11-15 06:30:06'),\n",
    " ('2017-11-15 08:14:59', '2017-11-15 08:23:44'),\n",
    " ('2017-11-15 10:16:44', '2017-11-15 10:33:41'),\n",
    " ('2017-11-15 10:33:58', '2017-11-15 10:54:14'),\n",
    " ('2017-11-15 11:02:15', '2017-11-15 11:14:42'),\n",
    " ('2017-11-16 09:27:41', '2017-11-16 09:38:49'),\n",
    " ('2017-11-16 09:57:41', '2017-11-16 10:18:00'),\n",
    " ('2017-11-16 17:25:05', '2017-11-16 17:44:47'),\n",
    " ('2017-11-17 13:45:54', '2017-11-17 16:36:56'),\n",
    " ('2017-11-17 19:12:49', '2017-11-17 19:31:15'),\n",
    " ('2017-11-18 10:49:06', '2017-11-18 10:55:45'),\n",
    " ('2017-11-18 11:32:12', '2017-11-18 11:44:16'),\n",
    " ('2017-11-18 18:09:01', '2017-11-18 18:14:31'),\n",
    " ('2017-11-18 18:53:10', '2017-11-18 19:01:29'),\n",
    " ('2017-11-19 14:15:41', '2017-11-19 14:31:49'),\n",
    " ('2017-11-20 21:19:19', '2017-11-20 21:41:09'),\n",
    " ('2017-11-20 22:39:48', '2017-11-20 23:23:37'),\n",
    " ('2017-11-21 17:44:25', '2017-11-21 17:51:32'),\n",
    " ('2017-11-21 18:20:52', '2017-11-21 18:34:51'),\n",
    " ('2017-11-21 18:47:32', '2017-11-21 18:51:50'),\n",
    " ('2017-11-21 19:07:57', '2017-11-21 19:14:33'),\n",
    " ('2017-11-21 20:04:56', '2017-11-21 20:08:54'),\n",
    " ('2017-11-21 21:55:47', '2017-11-21 22:08:12'),\n",
    " ('2017-11-23 23:47:43', '2017-11-23 23:57:56'),\n",
    " ('2017-11-24 06:41:25', '2017-11-24 06:53:15'),\n",
    " ('2017-11-24 06:58:56', '2017-11-24 07:33:24'),\n",
    " ('2017-11-26 12:25:49', '2017-11-26 12:41:36'),\n",
    " ('2017-11-27 05:29:04', '2017-11-27 05:54:13'),\n",
    " ('2017-11-27 06:06:47', '2017-11-27 06:11:01'),\n",
    " ('2017-11-27 06:45:14', '2017-11-27 06:55:39'),\n",
    " ('2017-11-27 09:39:44', '2017-11-27 09:47:43'),\n",
    " ('2017-11-27 11:09:18', '2017-11-27 11:20:46'),\n",
    " ('2017-11-27 11:31:46', '2017-11-27 11:35:44'),\n",
    " ('2017-11-27 12:07:14', '2017-11-27 12:12:36'),\n",
    " ('2017-11-27 12:21:40', '2017-11-27 12:26:44'),\n",
    " ('2017-11-27 17:26:31', '2017-11-27 17:36:07'),\n",
    " ('2017-11-27 18:11:49', '2017-11-27 18:29:04'),\n",
    " ('2017-11-27 19:36:16', '2017-11-27 19:47:17'),\n",
    " ('2017-11-27 20:12:57', '2017-11-27 20:17:33'),\n",
    " ('2017-11-28 08:18:06', '2017-11-28 08:41:53'),\n",
    " ('2017-11-28 19:17:23', '2017-11-28 19:34:01'),\n",
    " ('2017-11-28 19:34:15', '2017-11-28 19:46:24'),\n",
    " ('2017-11-28 21:27:29', '2017-11-28 21:39:32'),\n",
    " ('2017-11-29 07:47:38', '2017-11-29 07:51:18'),\n",
    " ('2017-11-29 09:50:12', '2017-11-29 09:53:44'),\n",
    " ('2017-11-29 17:03:42', '2017-11-29 17:16:21'),\n",
    " ('2017-11-29 18:19:15', '2017-11-29 18:23:43'),\n",
    " ('2017-12-01 17:03:58', '2017-12-01 17:10:12'),\n",
    " ('2017-12-02 07:55:56', '2017-12-02 08:01:01'),\n",
    " ('2017-12-02 09:16:14', '2017-12-02 09:21:18'),\n",
    " ('2017-12-02 19:48:29', '2017-12-02 19:53:18'),\n",
    " ('2017-12-03 14:36:29', '2017-12-03 15:20:09'),\n",
    " ('2017-12-03 16:04:02', '2017-12-03 16:25:30'),\n",
    " ('2017-12-03 16:40:26', '2017-12-03 16:43:58'),\n",
    " ('2017-12-03 17:20:17', '2017-12-03 18:04:33'),\n",
    " ('2017-12-04 08:34:24', '2017-12-04 08:51:00'),\n",
    " ('2017-12-04 17:49:26', '2017-12-04 17:53:57'),\n",
    " ('2017-12-04 18:38:52', '2017-12-04 18:50:33'),\n",
    " ('2017-12-04 21:39:20', '2017-12-04 21:46:58'),\n",
    " ('2017-12-04 21:54:21', '2017-12-04 21:56:17'),\n",
    " ('2017-12-05 08:50:50', '2017-12-05 08:52:54'),\n",
    " ('2017-12-06 08:19:38', '2017-12-06 08:24:14'),\n",
    " ('2017-12-06 18:19:19', '2017-12-06 18:28:11'),\n",
    " ('2017-12-06 18:28:55', '2017-12-06 18:33:12'),\n",
    " ('2017-12-06 20:03:29', '2017-12-06 20:21:38'),\n",
    " ('2017-12-06 20:36:42', '2017-12-06 20:39:57'),\n",
    " ('2017-12-07 05:54:51', '2017-12-07 06:01:15'),\n",
    " ('2017-12-08 16:47:18', '2017-12-08 16:55:49'),\n",
    " ('2017-12-08 19:15:02', '2017-12-08 19:29:12'),\n",
    " ('2017-12-09 22:39:37', '2017-12-09 22:47:19'),\n",
    " ('2017-12-09 23:00:10', '2017-12-09 23:05:32'),\n",
    " ('2017-12-10 00:39:24', '2017-12-10 00:56:02'),\n",
    " ('2017-12-10 01:02:42', '2017-12-10 01:08:09'),\n",
    " ('2017-12-10 01:08:57', '2017-12-10 01:11:30'),\n",
    " ('2017-12-10 13:49:09', '2017-12-10 13:51:41'),\n",
    " ('2017-12-10 15:14:29', '2017-12-10 15:18:19'),\n",
    " ('2017-12-10 15:31:07', '2017-12-10 15:36:28'),\n",
    " ('2017-12-10 16:20:06', '2017-12-10 16:30:31'),\n",
    " ('2017-12-10 17:07:54', '2017-12-10 17:14:25'),\n",
    " ('2017-12-10 17:23:47', '2017-12-10 17:45:25'),\n",
    " ('2017-12-11 06:17:06', '2017-12-11 06:34:04'),\n",
    " ('2017-12-11 09:08:41', '2017-12-11 09:12:21'),\n",
    " ('2017-12-11 09:15:41', '2017-12-11 09:20:18'),\n",
    " ('2017-12-12 08:55:53', '2017-12-12 08:59:34'),\n",
    " ('2017-12-13 17:14:56', '2017-12-13 17:18:32'),\n",
    " ('2017-12-13 18:52:16', '2017-12-13 19:00:45'),\n",
    " ('2017-12-14 09:01:10', '2017-12-14 09:11:06'),\n",
    " ('2017-12-14 09:12:59', '2017-12-14 09:19:06'),\n",
    " ('2017-12-14 11:54:33', '2017-12-14 12:02:00'),\n",
    " ('2017-12-14 14:40:23', '2017-12-14 14:44:40'),\n",
    " ('2017-12-14 15:08:55', '2017-12-14 15:26:24'),\n",
    " ('2017-12-14 17:46:17', '2017-12-14 18:09:04'),\n",
    " ('2017-12-15 09:08:12', '2017-12-15 09:23:45'),\n",
    " ('2017-12-16 09:33:46', '2017-12-16 09:36:17'),\n",
    " ('2017-12-16 11:02:31', '2017-12-16 11:05:04'),\n",
    " ('2017-12-17 10:09:47', '2017-12-17 10:32:03'),\n",
    " ('2017-12-18 08:02:36', '2017-12-18 08:07:34'),\n",
    " ('2017-12-18 16:03:00', '2017-12-18 16:09:20'),\n",
    " ('2017-12-18 16:30:07', '2017-12-18 16:53:12'),\n",
    " ('2017-12-18 19:18:23', '2017-12-18 19:22:08'),\n",
    " ('2017-12-18 20:14:46', '2017-12-18 20:17:47'),\n",
    " ('2017-12-19 19:14:08', '2017-12-19 19:23:49'),\n",
    " ('2017-12-19 19:39:36', '2017-12-19 19:43:46'),\n",
    " ('2017-12-20 08:05:14', '2017-12-20 08:10:46'),\n",
    " ('2017-12-20 08:15:45', '2017-12-20 08:29:50'),\n",
    " ('2017-12-20 08:33:32', '2017-12-20 08:38:09'),\n",
    " ('2017-12-20 13:43:36', '2017-12-20 13:54:39'),\n",
    " ('2017-12-20 18:57:53', '2017-12-20 19:06:54'),\n",
    " ('2017-12-21 07:21:11', '2017-12-21 07:32:03'),\n",
    " ('2017-12-21 08:01:58', '2017-12-21 08:06:15'),\n",
    " ('2017-12-21 13:20:54', '2017-12-21 13:33:49'),\n",
    " ('2017-12-21 15:26:08', '2017-12-21 15:34:27'),\n",
    " ('2017-12-21 18:09:46', '2017-12-21 18:38:50'),\n",
    " ('2017-12-22 16:14:21', '2017-12-22 16:21:46'),\n",
    " ('2017-12-22 16:29:17', '2017-12-22 16:34:14'),\n",
    " ('2017-12-25 12:49:51', '2017-12-25 13:18:27'),\n",
    " ('2017-12-25 13:46:44', '2017-12-25 14:20:50'),\n",
    " ('2017-12-26 10:40:16', '2017-12-26 10:53:45'),\n",
    " ('2017-12-27 16:56:12', '2017-12-27 17:17:39'),\n",
    " ('2017-12-29 06:02:34', '2017-12-29 06:12:30'),\n",
    " ('2017-12-29 12:21:03', '2017-12-29 12:46:16'),\n",
    " ('2017-12-29 14:32:55', '2017-12-29 14:43:46'),\n",
    " ('2017-12-29 15:08:26', '2017-12-29 15:18:51'),\n",
    " ('2017-12-29 20:33:34', '2017-12-29 20:38:13'),\n",
    " ('2017-12-30 13:51:03', '2017-12-30 13:54:33'),\n",
    " ('2017-12-30 15:09:03', '2017-12-30 15:19:13')]\n",
    "\n",
    "# Write down the format string\n",
    "fmt = \"%Y-%m-%d %H:%M:%S\"\n",
    "\n",
    "# Initialize a list for holding the pairs of datetime objects\n",
    "onebike_datetimes = []\n",
    "\n",
    "# Loop over all trips\n",
    "for (start, end) in onebike_datetime_strings:\n",
    "  trip = {'end': datetime.strptime(end, fmt),\n",
    "          'start': datetime.strptime(start, fmt)}\n",
    "  \n",
    "  # Append the trip\n",
    "  onebike_datetimes.append(trip)"
   ]
  },
  {
   "cell_type": "markdown",
   "metadata": {},
   "source": [
    "<font size=\"5\"><b>Counting events before and after noon</b></font><br/>\n",
    "\n",
    "In this chapter, you will be working with a list of all bike trips for one Capital Bikeshare bike, W20529, from October 1, 2017 to December 31, 2017. This list has been loaded as <mark>onebike_datetimes</mark>.\n",
    "\n",
    "Each element of the list is a dictionary with two entries: <mark>start</mark> is a <mark>datetime</mark> object corresponding to the start of a trip (when a bike is removed from the dock) and <mark>end</mark> is a <mark>datetime</mark> object corresponding to the end of a trip (when a bike is put back into a dock).\n",
    "\n",
    "You can use this data set to understand better how this bike was used. Did more trips start before noon or after noon?\n",
    "\n",
    "<b>Instructions</b>\n",
    "\n",
    "- Within the for <mark>loop</mark>, complete the <mark>if</mark> statement to check if the trip started before noon.\n",
    "- Within the <mark>for</mark> loop, increment <mark>trip_counts['AM']</mark> if the trip started before noon, and <mark>trip_counts['PM']</mark> if it started after noon."
   ]
  },
  {
   "cell_type": "code",
   "execution_count": 5,
   "metadata": {},
   "outputs": [],
   "source": [
    "# Create dictionary to hold results\n",
    "trip_counts = {'AM': 0, 'PM': 0}\n",
    "  \n",
    "# Loop over all trips\n",
    "for trip in onebike_datetimes:\n",
    "  # Check to see if the trip starts before noon\n",
    "  if trip['start'].hour < 12:\n",
    "    # Increment the counter for before noon\n",
    "    trip_counts['AM'] += 1\n",
    "  else:\n",
    "    # Increment the counter for after noon\n",
    "    trip_counts['PM'] += 1\n",
    "  "
   ]
  },
  {
   "cell_type": "markdown",
   "metadata": {},
   "source": [
    "<b>Great! It looks like this bike is used about twice as much after noon than it is before noon. One obvious follow up would be to see which hours the bike is most likely to be taken out for a ride.</b>"
   ]
  },
  {
   "cell_type": "markdown",
   "metadata": {},
   "source": [
    "<font size=\"5\"><b>Turning strings into datetimes</b></font><br/>\n",
    "\n",
    "When you download data from the Internet, dates and times usually come to you as strings. Often the first step is to turn those strings into <mark>datetime</mark> objects.\n",
    "\n",
    "In this exercise, you will practice this transformation.\n",
    "\n",
    "<b>Reference</b>\t\n",
    "- %Y\t4 digit year (0000-9999)\n",
    "- %m\t2 digit month (1-12)\n",
    "- %d\t2 digit day (1-31)\n",
    "- %H\t2 digit hour (0-23)\n",
    "- %M\t2 digit minute (0-59)\n",
    "- %S\t2 digit second (0-59)\n",
    "\n",
    "<b>Instructions</b>\n",
    "\n",
    "- Determine the format needed to convert <mark>s</mark> to datetime and assign it to <mark>fmt</mark>.\n",
    "- Convert the string <mark>s</mark> to datetime using <mark>fmt</mark>."
   ]
  },
  {
   "cell_type": "code",
   "execution_count": 6,
   "metadata": {},
   "outputs": [
    {
     "name": "stdout",
     "output_type": "stream",
     "text": [
      "2017-02-03 00:00:01\n"
     ]
    }
   ],
   "source": [
    "# Import the datetime class\n",
    "from datetime import datetime\n",
    "\n",
    "# Starting string, in YYYY-MM-DD HH:MM:SS format\n",
    "s = '2017-02-03 00:00:01'\n",
    "\n",
    "# Write a format string to parse s\n",
    "fmt = '%Y-%m-%d %H:%M:%S'\n",
    "\n",
    "# Create a datetime object d\n",
    "d = datetime.strptime(s, fmt)\n",
    "\n",
    "# Print d\n",
    "print(d)"
   ]
  },
  {
   "cell_type": "markdown",
   "metadata": {},
   "source": [
    "- Determine the format needed to convert <mark>s</mark> to datetime and assign it to <mark>fmt</mark>.\n",
    "- Convert the string <mark>s</mark> to datetime using <mark>fmt</mark>."
   ]
  },
  {
   "cell_type": "code",
   "execution_count": 7,
   "metadata": {},
   "outputs": [
    {
     "name": "stdout",
     "output_type": "stream",
     "text": [
      "2030-10-15 00:00:00\n"
     ]
    }
   ],
   "source": [
    "# Import the datetime class\n",
    "from datetime import datetime\n",
    "\n",
    "# Starting string, in YYYY-MM-DD format\n",
    "s = '2030-10-15'\n",
    "\n",
    "# Write a format string to parse s\n",
    "fmt = '%Y-%m-%d'\n",
    "\n",
    "# Create a datetime object d\n",
    "d = datetime.strptime(s, fmt)\n",
    "\n",
    "# Print d\n",
    "print(d)"
   ]
  },
  {
   "cell_type": "markdown",
   "metadata": {},
   "source": [
    "- Determine the format needed to convert <mark>s</mark> to datetime and assign it to <mark>fmt</mark>.\n",
    "- Convert the string <mark>s</mark> to datetime using <mark>fmt</mark>."
   ]
  },
  {
   "cell_type": "code",
   "execution_count": 8,
   "metadata": {},
   "outputs": [
    {
     "name": "stdout",
     "output_type": "stream",
     "text": [
      "1986-12-15 08:00:00\n"
     ]
    }
   ],
   "source": [
    "# Import the datetime class\n",
    "from datetime import datetime\n",
    "\n",
    "# Starting string, in MM/DD/YYYY HH:MM:SS format\n",
    "s = '12/15/1986 08:00:00'\n",
    "\n",
    "# Write a format string to parse s\n",
    "fmt = '%m/%d/%Y %H:%M:%S'\n",
    "\n",
    "# Create a datetime object d\n",
    "d = datetime.strptime(s, fmt)\n",
    "\n",
    "# Print d\n",
    "print(d)"
   ]
  },
  {
   "cell_type": "markdown",
   "metadata": {},
   "source": [
    "<b>Great! Now you can parse dates in most common formats. Unfortunately, Python does not have the ability to parse non-zero-padded dates and times out of the box (such as 1/2/2018). If needed, you can use other string methods to create zero-padded strings suitable for strptime().</b>"
   ]
  },
  {
   "cell_type": "markdown",
   "metadata": {},
   "source": [
    "<font size=\"5\"><b>Parsing pairs of strings as datetimes</b></font><br/>\n",
    "\n",
    "Up until now, you've been working with a pre-processed list of <mark>datetimes</mark> for W20529's trips. For this exercise, you're going to go one step back in the data cleaning pipeline and work with the strings that the data started as.\n",
    "\n",
    "Explore <mark>onebike_datetime_strings</mark> in the IPython shell to determine the correct format. <mark>datetime</mark> has already been loaded for you.\n",
    "\n",
    "<b>Reference</b>\t\n",
    "- %Y\t4 digit year (0000-9999)\n",
    "- %m\t2 digit month (1-12)\n",
    "- %d\t2 digit day (1-31)\n",
    "- %H\t2 digit hour (0-23)\n",
    "- %M\t2 digit minute (0-59)\n",
    "- %S\t2 digit second (0-59)\n",
    "\n",
    "<b>Instructions</b>\n",
    "\n",
    "- Outside the <mark>for</mark> loop, fill out the <mark>fmt</mark> string with the correct parsing format for the data.\n",
    "- Within the <mark>for</mark> loop, parse the <mark>start</mark> and <mark>end</mark> strings into the <mark>trip</mark> dictionary with <mark>start</mark> and <mark>end</mark> keys and <mark>datetime</mark> objects for values."
   ]
  },
  {
   "cell_type": "code",
   "execution_count": 9,
   "metadata": {},
   "outputs": [],
   "source": [
    "# Write down the format string\n",
    "fmt = \"%Y-%m-%d %H:%M:%S\"\n",
    "\n",
    "# Initialize a list for holding the pairs of datetime objects\n",
    "onebike_datetimes = []\n",
    "\n",
    "# Loop over all trips\n",
    "for (start, end) in onebike_datetime_strings:\n",
    "  trip = {'start': datetime.strptime(start, fmt),\n",
    "          'end': datetime.strptime(end, fmt)}\n",
    "  \n",
    "  # Append the trip\n",
    "  onebike_datetimes.append(trip)"
   ]
  },
  {
   "cell_type": "markdown",
   "metadata": {},
   "source": [
    "<b>Excellent! Now you know how to process lists of strings into a more useful structure. If you haven't come across this approach before, many complex data cleaning tasks follow this same format: start with a list, process each element, and add the processed data to a new list.</b>"
   ]
  },
  {
   "cell_type": "markdown",
   "metadata": {},
   "source": [
    "<font size=\"5\"><b>Recreating ISO format with strftime()</b></font><br/>\n",
    "\n",
    "In the last chapter, you used <mark>strftime()</mark> to create strings from <mark>date</mark> objects. Now that you know about <mark>datetime</mark> objects, let's practice doing something similar.\n",
    "\n",
    "Re-create the <mark>.isoformat()</mark> method, using <mark>.strftime()</mark>, and print the first trip start in our data set.\n",
    "\n",
    "<b>Reference</b>\t\n",
    "- %Y\t4 digit year (0000-9999)\n",
    "- %m\t2 digit month (1-12)\n",
    "- %d\t2 digit day (1-31)\n",
    "- %H\t2 digit hour (0-23)\n",
    "- %M\t2 digit minute (0-59)\n",
    "- %S\t2 digit second (0-59)\n",
    "\n",
    "<b>Instructions</b>\n",
    "\n",
    "- Complete fmt to match the format of ISO 8601.\n",
    "- Print first_start with both .isoformat() and .strftime(); they should match."
   ]
  },
  {
   "cell_type": "code",
   "execution_count": 10,
   "metadata": {},
   "outputs": [
    {
     "name": "stdout",
     "output_type": "stream",
     "text": [
      "2017-10-01T15:23:25\n",
      "2017-10-01T15:23:25\n"
     ]
    }
   ],
   "source": [
    "# Import datetime\n",
    "from datetime import datetime\n",
    "\n",
    "# Pull out the start of the first trip\n",
    "first_start = onebike_datetimes[0]['start']\n",
    "\n",
    "# Format to feed to strftime()\n",
    "fmt = \"%Y-%m-%dT%H:%M:%S\"\n",
    "\n",
    "# Print out date with .isoformat(), then with .strftime() to compare\n",
    "print(first_start.isoformat())\n",
    "print(first_start.strftime(fmt))"
   ]
  },
  {
   "cell_type": "markdown",
   "metadata": {},
   "source": [
    "<b>Awesome! There are a wide variety of time formats you can create with strftime(), depending on your needs. However, if you don't know exactly what you need, .isoformat() is a perfectly fine place to start.</b>"
   ]
  },
  {
   "cell_type": "markdown",
   "metadata": {},
   "source": [
    "<font size=\"5\"><b>Unix timestamps</b></font><br/>\n",
    "\n",
    "Datetimes are sometimes stored as Unix timestamps: the number of seconds since January 1, 1970. This is especially common with computer infrastructure, like the log files that websites keep when they get visitors.\n",
    "\n",
    "<b>Instructions</b>\n",
    "- Complete the <mark>for</mark> loop to loop over <mark>timestamps</mark>.\n",
    "- Complete the code to turn each timestamp <mark>ts</mark> into a <mark>datetime</mark>.\n"
   ]
  },
  {
   "cell_type": "code",
   "execution_count": 11,
   "metadata": {},
   "outputs": [
    {
     "name": "stdout",
     "output_type": "stream",
     "text": [
      "[datetime.datetime(2017, 12, 31, 1, 49, 13), datetime.datetime(2017, 12, 31, 1, 39, 3)]\n"
     ]
    }
   ],
   "source": [
    "# Import datetime\n",
    "from datetime import datetime\n",
    "\n",
    "# Starting timestamps\n",
    "timestamps = [1514665153, 1514664543]\n",
    "\n",
    "# Datetime objects\n",
    "dts = []\n",
    "\n",
    "# Loop\n",
    "for ts in timestamps:\n",
    "  dts.append(datetime.fromtimestamp(ts))\n",
    "  \n",
    "# Print results\n",
    "print(dts)"
   ]
  },
  {
   "cell_type": "markdown",
   "metadata": {},
   "source": [
    "<b>Nice! The largest number that some older computers can hold in one variable is <mark>2147483648</mark>, which as a Unix timestamp is in January 2038. On that day, many computers which haven't been upgraded will fail. Hopefully, none of them are running anything critical!</b>"
   ]
  },
  {
   "cell_type": "markdown",
   "metadata": {},
   "source": [
    "<font size=\"5\"><b>Turning pairs of datetimes into durations</b></font><br/>\n",
    "\n",
    "When working with timestamps, we often want to know how much time has elapsed between events. Thankfully, we can use <mark>datetime</mark> arithmetic to ask Python to do the heavy lifting for us so we don't need to worry about day, month, or year boundaries. Let's calculate the number of seconds that the bike was out of the dock for each trip.\n",
    "\n",
    "Continuing our work from a previous coding exercise, the bike trip data has been loaded as the list <mark>onebike_datetimes</mark>. Each element of the list consists of two <mark>datetime</mark> objects, corresponding to the start and end of a trip, respectively.\n",
    "\n",
    "<b>Instructions</b>\n",
    "\n",
    "- Within the loop:\n",
    " - Use arithmetic on the <mark>start</mark> and <mark>end</mark> elements to find the length of the trip\n",
    " - Save the results to <mark>trip_duration</mark>.\n",
    " - Calculate <mark>trip_length_seconds</mark> from <mark>trip_duration</mark>."
   ]
  },
  {
   "cell_type": "code",
   "execution_count": 12,
   "metadata": {},
   "outputs": [],
   "source": [
    "# Initialize a list for all the trip durations\n",
    "onebike_durations = []\n",
    "\n",
    "for trip in onebike_datetimes:\n",
    "  # Create a timedelta object corresponding to the length of the trip\n",
    "  trip_duration = trip['end'] - trip['start']\n",
    "  \n",
    "  # Get the total elapsed seconds in trip_duration\n",
    "  trip_length_seconds = trip_duration.total_seconds()\n",
    "  \n",
    "  # Append the results to our list\n",
    "  onebike_durations.append(trip_length_seconds)"
   ]
  },
  {
   "cell_type": "markdown",
   "metadata": {},
   "source": [
    "<b>Success! Remember that timedelta objects are represented in Python as a number of days and seconds of elapsed time. Be careful not to use .seconds on a timedelta object, since you'll just get the number of seconds without the days!</b>"
   ]
  },
  {
   "cell_type": "markdown",
   "metadata": {},
   "source": [
    "<font size=\"5\"><b>Average trip time</b></font><br/>\n",
    "\n",
    "W20529 took 291 trips in our data set. How long were the trips on average? We can use the built-in Python functions <mark>sum()</mark> and <mark>len()</mark> to make this calculation.\n",
    "\n",
    "Based on your last coding exercise, the data has been loaded as <mark>onebike_durations</mark>. Each entry is a number of seconds that the bike was out of the dock.\n",
    "\n",
    "<b>Instructions</b>\n",
    "\n",
    "- Calculate total_elapsed_time across all trips in onebike_durations.\n",
    "- Calculate number_of_trips for onebike_durations.\n",
    "- Divide total_elapsed_time by number_of_trip"
   ]
  },
  {
   "cell_type": "code",
   "execution_count": 13,
   "metadata": {},
   "outputs": [
    {
     "name": "stdout",
     "output_type": "stream",
     "text": [
      "1178.9310344827586\n"
     ]
    }
   ],
   "source": [
    "# What was the total duration of all trips?\n",
    "total_elapsed_time = sum(onebike_durations)\n",
    "\n",
    "# What was the total number of trips?\n",
    "number_of_trips = len(onebike_durations)\n",
    "  \n",
    "# Divide the total duration by the number of trips\n",
    "print(total_elapsed_time / number_of_trips)"
   ]
  },
  {
   "cell_type": "markdown",
   "metadata": {},
   "source": [
    "<b>Great work, and not remotely average! For the average to be a helpful summary of the data, we need for all of our durations to be reasonable numbers, and not a few that are way too big, way too small, or even malformed. For example, if there is anything fishy happening in the data, and our trip ended before it started, we'd have a negative trip length.</b>"
   ]
  },
  {
   "cell_type": "markdown",
   "metadata": {},
   "source": [
    "<font size=\"5\"><b>The long and the short of why time is hard</b></font><br/>\n",
    "\n",
    "Out of 291 trips taken by W20529, how long was the longest? How short was the shortest? Does anything look fishy?\n",
    "\n",
    "As before, data has been loaded as <mark>onebike_durations</mark>.\n",
    "\n",
    "<b>Instructions</b>\n",
    "\n",
    "- Calculate shortest_trip from onebike_durations.\n",
    "- Calculate longest_trip from onebike_durations.\n",
    "- Print the results, turning shortest_trip and longest_trip into strings so they can print."
   ]
  },
  {
   "cell_type": "code",
   "execution_count": 14,
   "metadata": {},
   "outputs": [
    {
     "name": "stdout",
     "output_type": "stream",
     "text": [
      "The shortest trip was -3346.0 seconds\n",
      "The longest trip was 76913.0 seconds\n"
     ]
    }
   ],
   "source": [
    "# Calculate shortest and longest trips\n",
    "shortest_trip = min(onebike_durations)\n",
    "longest_trip = max(onebike_durations)\n",
    "\n",
    "# Print out the results\n",
    "print(\"The shortest trip was \" + str(shortest_trip) + \" seconds\")\n",
    "print(\"The longest trip was \" + str(longest_trip) + \" seconds\")"
   ]
  },
  {
   "cell_type": "markdown",
   "metadata": {},
   "source": [
    "<b>Weird huh?! For at least one trip, the bike returned before it left. Why could that be? Here's a hint: it happened in early November, around 2AM local time. What happens to clocks around that time each year? By the end of the next chapter, we'll have all the tools we need to deal with this situation!</b>"
   ]
  }
 ],
 "metadata": {
  "kernelspec": {
   "display_name": "Python 3",
   "language": "python",
   "name": "python3"
  },
  "language_info": {
   "codemirror_mode": {
    "name": "ipython",
    "version": 3
   },
   "file_extension": ".py",
   "mimetype": "text/x-python",
   "name": "python",
   "nbconvert_exporter": "python",
   "pygments_lexer": "ipython3",
   "version": "3.7.4"
  },
  "varInspector": {
   "cols": {
    "lenName": 16,
    "lenType": 16,
    "lenVar": 40
   },
   "kernels_config": {
    "python": {
     "delete_cmd_postfix": "",
     "delete_cmd_prefix": "del ",
     "library": "var_list.py",
     "varRefreshCmd": "print(var_dic_list())"
    },
    "r": {
     "delete_cmd_postfix": ") ",
     "delete_cmd_prefix": "rm(",
     "library": "var_list.r",
     "varRefreshCmd": "cat(var_dic_list()) "
    }
   },
   "types_to_exclude": [
    "module",
    "function",
    "builtin_function_or_method",
    "instance",
    "_Feature"
   ],
   "window_display": false
  }
 },
 "nbformat": 4,
 "nbformat_minor": 2
}
