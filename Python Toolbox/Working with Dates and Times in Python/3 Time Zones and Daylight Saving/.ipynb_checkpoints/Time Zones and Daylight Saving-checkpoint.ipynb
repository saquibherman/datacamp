{
 "cells": [
  {
   "cell_type": "markdown",
   "metadata": {},
   "source": [
    "# 3 Time Zones and Daylight Saving\n",
    "\n",
    "In this chapter, you'll learn to confidently tackle the time-related topic that causes people the most trouble: time zones and daylight saving. Continuing with our bike data, you'll learn how to compare clocks around the world, how to gracefully handle \"spring forward\" and \"fall back,\" and how to get up-to-date timezone data from the dateutil library."
   ]
  },
  {
   "cell_type": "markdown",
   "metadata": {},
   "source": [
    "<font size=\"5\"><b>Creating timezone aware datetimes</b></font><br/>\n",
    "\n",
    "In this exercise, you will practice setting timezones manually.\n",
    "\n",
    "<b>Instructions</b>\n",
    "\n",
    "- Import timezone.\n",
    "- Set the tzinfo to UTC, without using timedelta."
   ]
  },
  {
   "cell_type": "code",
   "execution_count": 1,
   "metadata": {},
   "outputs": [
    {
     "name": "stdout",
     "output_type": "stream",
     "text": [
      "2017-10-01T15:26:26+00:00\n"
     ]
    }
   ],
   "source": [
    "# Import datetime, timezone\n",
    "from datetime import datetime, timezone\n",
    "\n",
    "# October 1, 2017 at 15:26:26, UTC\n",
    "dt = datetime(2017, 10, 1, 15, 26, 26, tzinfo = timezone.utc)\n",
    "\n",
    "# Print results\n",
    "print(dt.isoformat())"
   ]
  },
  {
   "cell_type": "markdown",
   "metadata": {},
   "source": [
    "<b>Instructions</b>\n",
    "\n",
    "- Set pst to be a timezone set for UTC-8.\n",
    "- Set dt's timezone to be pst."
   ]
  },
  {
   "cell_type": "code",
   "execution_count": 2,
   "metadata": {},
   "outputs": [
    {
     "name": "stdout",
     "output_type": "stream",
     "text": [
      "2017-10-01T15:26:26-08:00\n"
     ]
    }
   ],
   "source": [
    "# Import datetime, timedelta, timezone\n",
    "from datetime import datetime, timedelta, timezone\n",
    "\n",
    "# Create a timezone for Pacific Standard Time, or UTC-8\n",
    "pst = timezone(timedelta(hours=-8))\n",
    "\n",
    "# October 1, 2017 at 15:26:26, UTC-8\n",
    "dt = datetime(2017, 10, 1, 15, 26, 26, tzinfo=pst)\n",
    "\n",
    "# Print results\n",
    "print(dt.isoformat())"
   ]
  },
  {
   "cell_type": "markdown",
   "metadata": {},
   "source": [
    "<b>Instructions</b>\n",
    "- Set tz to be a timezone set for UTC+11.\n",
    "- Set dt's timezone to be tz."
   ]
  },
  {
   "cell_type": "code",
   "execution_count": 3,
   "metadata": {},
   "outputs": [
    {
     "name": "stdout",
     "output_type": "stream",
     "text": [
      "2017-10-01T15:26:26+11:00\n"
     ]
    }
   ],
   "source": [
    "# Import datetime, timedelta, timezone\n",
    "from datetime import datetime, timedelta, timezone\n",
    "\n",
    "# Create a timezone for Australian Eastern Daylight Time, or UTC+11\n",
    "aedt = timezone(timedelta(hours=11))\n",
    "\n",
    "# October 1, 2017 at 15:26:26, UTC+11\n",
    "dt = datetime(2017, 10, 1, 15, 26, 26, tzinfo=aedt)\n",
    "\n",
    "# Print results\n",
    "print(dt.isoformat())"
   ]
  },
  {
   "cell_type": "markdown",
   "metadata": {},
   "source": [
    "<b>Great! Did you know that Russia and France are tied for the most number of time zones, with 12 each? The French mainland only has one timezone, but because France has so many overseas dependencies they really add up!</b>"
   ]
  },
  {
   "cell_type": "code",
   "execution_count": 4,
   "metadata": {
    "code_folding": [
     1
    ]
   },
   "outputs": [],
   "source": [
    "#define onebike_datetime_strings\n",
    "onebike_datetime_strings = [('2017-10-01 15:23:25', '2017-10-01 15:26:26'),\n",
    " ('2017-10-01 15:42:57', '2017-10-01 17:49:59'),\n",
    " ('2017-10-02 06:37:10', '2017-10-02 06:42:53'),\n",
    " ('2017-10-02 08:56:45', '2017-10-02 09:18:03'),\n",
    " ('2017-10-02 18:23:48', '2017-10-02 18:45:05'),\n",
    " ('2017-10-02 18:48:08', '2017-10-02 19:10:54'),\n",
    " ('2017-10-02 19:18:10', '2017-10-02 19:31:45'),\n",
    " ('2017-10-02 19:37:32', '2017-10-02 19:46:37'),\n",
    " ('2017-10-03 08:24:16', '2017-10-03 08:32:27'),\n",
    " ('2017-10-03 18:17:07', '2017-10-03 18:27:46'),\n",
    " ('2017-10-03 19:24:10', '2017-10-03 19:52:08'),\n",
    " ('2017-10-03 20:17:06', '2017-10-03 20:23:52'),\n",
    " ('2017-10-03 20:45:21', '2017-10-03 20:57:10'),\n",
    " ('2017-10-04 07:04:57', '2017-10-04 07:13:31'),\n",
    " ('2017-10-04 07:13:42', '2017-10-04 07:21:54'),\n",
    " ('2017-10-04 14:22:12', '2017-10-04 14:50:00'),\n",
    " ('2017-10-04 15:07:27', '2017-10-04 15:44:49'),\n",
    " ('2017-10-04 15:46:41', '2017-10-04 16:32:33'),\n",
    " ('2017-10-04 16:34:44', '2017-10-04 16:46:59'),\n",
    " ('2017-10-04 17:26:06', '2017-10-04 17:31:36'),\n",
    " ('2017-10-04 17:42:03', '2017-10-04 17:50:41'),\n",
    " ('2017-10-05 07:49:02', '2017-10-05 08:12:55'),\n",
    " ('2017-10-05 08:26:21', '2017-10-05 08:29:45'),\n",
    " ('2017-10-05 08:33:27', '2017-10-05 08:38:31'),\n",
    " ('2017-10-05 16:35:35', '2017-10-05 16:51:52'),\n",
    " ('2017-10-05 17:53:31', '2017-10-05 18:16:50'),\n",
    " ('2017-10-06 08:17:17', '2017-10-06 08:38:01'),\n",
    " ('2017-10-06 11:39:40', '2017-10-06 11:50:38'),\n",
    " ('2017-10-06 12:59:54', '2017-10-06 13:13:14'),\n",
    " ('2017-10-06 13:43:05', '2017-10-06 14:14:56'),\n",
    " ('2017-10-06 14:28:15', '2017-10-06 15:09:26'),\n",
    " ('2017-10-06 15:50:10', '2017-10-06 16:12:34'),\n",
    " ('2017-10-06 16:32:16', '2017-10-06 16:39:31'),\n",
    " ('2017-10-06 16:44:08', '2017-10-06 16:48:39'),\n",
    " ('2017-10-06 16:53:43', '2017-10-06 17:09:03'),\n",
    " ('2017-10-07 11:38:55', '2017-10-07 11:53:06'),\n",
    " ('2017-10-07 14:03:36', '2017-10-07 14:07:05'),\n",
    " ('2017-10-07 14:20:03', '2017-10-07 14:27:36'),\n",
    " ('2017-10-07 14:30:50', '2017-10-07 14:44:51'),\n",
    " ('2017-10-08 00:28:26', '2017-10-08 00:30:48'),\n",
    " ('2017-10-08 11:16:21', '2017-10-08 11:33:24'),\n",
    " ('2017-10-08 12:37:03', '2017-10-08 13:01:29'),\n",
    " ('2017-10-08 13:30:37', '2017-10-08 13:57:53'),\n",
    " ('2017-10-08 14:16:40', '2017-10-08 15:07:19'),\n",
    " ('2017-10-08 15:23:50', '2017-10-08 15:50:01'),\n",
    " ('2017-10-08 15:54:12', '2017-10-08 16:17:42'),\n",
    " ('2017-10-08 16:28:52', '2017-10-08 16:35:18'),\n",
    " ('2017-10-08 23:08:14', '2017-10-08 23:33:41'),\n",
    " ('2017-10-08 23:34:49', '2017-10-08 23:45:11'),\n",
    " ('2017-10-08 23:46:47', '2017-10-09 00:10:57'),\n",
    " ('2017-10-09 00:12:58', '2017-10-09 00:36:40'),\n",
    " ('2017-10-09 00:37:02', '2017-10-09 00:53:33'),\n",
    " ('2017-10-09 01:23:29', '2017-10-09 01:48:13'),\n",
    " ('2017-10-09 01:49:25', '2017-10-09 02:13:35'),\n",
    " ('2017-10-09 02:14:11', '2017-10-09 02:29:40'),\n",
    " ('2017-10-09 13:04:32', '2017-10-09 13:13:25'),\n",
    " ('2017-10-09 14:30:10', '2017-10-09 14:38:55'),\n",
    " ('2017-10-09 15:06:47', '2017-10-09 15:11:30'),\n",
    " ('2017-10-09 16:43:25', '2017-10-09 16:45:38'),\n",
    " ('2017-10-10 15:32:58', '2017-10-10 15:51:24'),\n",
    " ('2017-10-10 16:47:55', '2017-10-10 17:03:47'),\n",
    " ('2017-10-10 17:51:05', '2017-10-10 18:00:18'),\n",
    " ('2017-10-10 18:08:12', '2017-10-10 18:19:11'),\n",
    " ('2017-10-10 19:09:35', '2017-10-10 19:14:32'),\n",
    " ('2017-10-10 19:17:11', '2017-10-10 19:23:08'),\n",
    " ('2017-10-10 19:28:11', '2017-10-10 19:44:40'),\n",
    " ('2017-10-10 19:55:35', '2017-10-10 20:11:54'),\n",
    " ('2017-10-10 22:20:43', '2017-10-10 22:33:23'),\n",
    " ('2017-10-11 04:40:52', '2017-10-11 04:59:22'),\n",
    " ('2017-10-11 06:28:58', '2017-10-11 06:40:13'),\n",
    " ('2017-10-11 16:41:07', '2017-10-11 17:01:14'),\n",
    " ('2017-10-12 08:08:30', '2017-10-12 08:35:03'),\n",
    " ('2017-10-12 08:47:02', '2017-10-12 08:59:50'),\n",
    " ('2017-10-12 13:13:39', '2017-10-12 13:37:45'),\n",
    " ('2017-10-12 13:40:12', '2017-10-12 13:48:17'),\n",
    " ('2017-10-12 13:49:56', '2017-10-12 13:53:16'),\n",
    " ('2017-10-12 14:33:18', '2017-10-12 14:39:57'),\n",
    " ('2017-10-13 15:55:39', '2017-10-13 15:59:41'),\n",
    " ('2017-10-17 17:58:48', '2017-10-17 18:01:38'),\n",
    " ('2017-10-19 20:21:45', '2017-10-19 20:29:15'),\n",
    " ('2017-10-19 21:11:39', '2017-10-19 21:29:37'),\n",
    " ('2017-10-19 21:30:01', '2017-10-19 21:47:23'),\n",
    " ('2017-10-19 21:47:34', '2017-10-19 21:57:07'),\n",
    " ('2017-10-19 21:57:24', '2017-10-19 22:09:52'),\n",
    " ('2017-10-21 12:24:09', '2017-10-21 12:36:24'),\n",
    " ('2017-10-21 12:36:37', '2017-10-21 12:42:13'),\n",
    " ('2017-10-21 13:47:43', '2017-10-22 11:09:36'),\n",
    " ('2017-10-22 13:28:53', '2017-10-22 13:31:44'),\n",
    " ('2017-10-22 13:47:05', '2017-10-22 13:56:33'),\n",
    " ('2017-10-22 14:26:41', '2017-10-22 14:32:39'),\n",
    " ('2017-10-22 14:54:41', '2017-10-22 15:09:58'),\n",
    " ('2017-10-22 16:40:29', '2017-10-22 16:51:40'),\n",
    " ('2017-10-22 17:58:46', '2017-10-22 18:28:37'),\n",
    " ('2017-10-22 18:45:16', '2017-10-22 18:50:34'),\n",
    " ('2017-10-22 18:56:22', '2017-10-22 19:11:10'),\n",
    " ('2017-10-23 10:14:08', '2017-10-23 10:35:32'),\n",
    " ('2017-10-23 11:29:36', '2017-10-23 14:38:34'),\n",
    " ('2017-10-23 15:04:52', '2017-10-23 15:32:58'),\n",
    " ('2017-10-23 15:33:48', '2017-10-23 17:06:47'),\n",
    " ('2017-10-23 17:13:16', '2017-10-23 19:31:26'),\n",
    " ('2017-10-23 19:55:03', '2017-10-23 20:25:53'),\n",
    " ('2017-10-23 21:47:54', '2017-10-23 22:18:04'),\n",
    " ('2017-10-23 22:34:12', '2017-10-23 22:48:42'),\n",
    " ('2017-10-24 06:55:01', '2017-10-24 07:02:17'),\n",
    " ('2017-10-24 14:56:07', '2017-10-24 15:03:16'),\n",
    " ('2017-10-24 15:51:36', '2017-10-24 15:59:50'),\n",
    " ('2017-10-24 16:31:10', '2017-10-24 16:55:09'),\n",
    " ('2017-10-28 14:26:14', '2017-10-28 14:32:34'),\n",
    " ('2017-11-01 09:41:54', '2017-11-01 09:52:23'),\n",
    " ('2017-11-01 20:16:11', '2017-11-01 20:32:13'),\n",
    " ('2017-11-02 19:44:29', '2017-11-02 19:50:56'),\n",
    " ('2017-11-02 20:14:37', '2017-11-02 20:30:29'),\n",
    " ('2017-11-02 21:35:47', '2017-11-02 21:38:57'),\n",
    " ('2017-11-03 09:59:27', '2017-11-03 10:11:46'),\n",
    " ('2017-11-03 10:13:22', '2017-11-03 10:32:02'),\n",
    " ('2017-11-03 10:44:25', '2017-11-03 10:50:34'),\n",
    " ('2017-11-03 16:06:43', '2017-11-03 16:44:38'),\n",
    " ('2017-11-03 16:45:54', '2017-11-03 17:00:27'),\n",
    " ('2017-11-03 17:07:15', '2017-11-03 17:35:05'),\n",
    " ('2017-11-03 17:36:05', '2017-11-03 17:46:48'),\n",
    " ('2017-11-03 17:50:31', '2017-11-03 18:00:03'),\n",
    " ('2017-11-03 19:22:56', '2017-11-03 19:45:51'),\n",
    " ('2017-11-04 13:14:10', '2017-11-04 13:26:15'),\n",
    " ('2017-11-04 14:18:37', '2017-11-04 14:30:05'),\n",
    " ('2017-11-04 14:45:59', '2017-11-04 15:03:20'),\n",
    " ('2017-11-04 15:16:03', '2017-11-04 15:44:30'),\n",
    " ('2017-11-04 16:37:46', '2017-11-04 16:58:22'),\n",
    " ('2017-11-04 17:13:19', '2017-11-04 17:34:50'),\n",
    " ('2017-11-04 18:10:34', '2017-11-04 18:58:44'),\n",
    " ('2017-11-05 01:56:50', '2017-11-05 01:01:04'),\n",
    " ('2017-11-05 08:33:33', '2017-11-05 08:53:46'),\n",
    " ('2017-11-05 08:58:08', '2017-11-05 09:03:39'),\n",
    " ('2017-11-05 11:05:08', '2017-11-05 11:30:05'),\n",
    " ('2017-11-06 08:50:18', '2017-11-06 08:59:05'),\n",
    " ('2017-11-06 09:04:03', '2017-11-06 09:13:47'),\n",
    " ('2017-11-06 16:19:36', '2017-11-06 17:02:55'),\n",
    " ('2017-11-06 17:21:27', '2017-11-06 17:34:06'),\n",
    " ('2017-11-06 17:36:01', '2017-11-06 17:57:32'),\n",
    " ('2017-11-06 17:59:52', '2017-11-06 18:15:08'),\n",
    " ('2017-11-06 18:18:36', '2017-11-06 18:21:17'),\n",
    " ('2017-11-06 19:24:31', '2017-11-06 19:37:57'),\n",
    " ('2017-11-06 19:49:16', '2017-11-06 20:03:14'),\n",
    " ('2017-11-07 07:50:48', '2017-11-07 08:01:32'),\n",
    " ('2017-11-08 13:11:51', '2017-11-08 13:18:05'),\n",
    " ('2017-11-08 21:34:47', '2017-11-08 21:46:05'),\n",
    " ('2017-11-08 22:02:30', '2017-11-08 22:04:47'),\n",
    " ('2017-11-09 07:01:11', '2017-11-09 07:12:10'),\n",
    " ('2017-11-09 08:02:02', '2017-11-09 08:08:28'),\n",
    " ('2017-11-09 08:19:59', '2017-11-09 08:32:24'),\n",
    " ('2017-11-09 08:41:31', '2017-11-09 08:48:59'),\n",
    " ('2017-11-09 09:00:06', '2017-11-09 09:09:24'),\n",
    " ('2017-11-09 09:09:37', '2017-11-09 09:24:25'),\n",
    " ('2017-11-09 13:14:37', '2017-11-09 13:25:39'),\n",
    " ('2017-11-09 15:20:07', '2017-11-09 15:31:10'),\n",
    " ('2017-11-09 18:47:08', '2017-11-09 18:53:10'),\n",
    " ('2017-11-09 23:35:02', '2017-11-09 23:43:35'),\n",
    " ('2017-11-10 07:51:33', '2017-11-10 08:02:28'),\n",
    " ('2017-11-10 08:38:28', '2017-11-10 08:42:09'),\n",
    " ('2017-11-11 18:05:25', '2017-11-11 18:13:14'),\n",
    " ('2017-11-11 19:39:12', '2017-11-11 19:46:22'),\n",
    " ('2017-11-11 21:13:19', '2017-11-11 21:16:31'),\n",
    " ('2017-11-12 09:46:19', '2017-11-12 09:51:43'),\n",
    " ('2017-11-13 13:33:42', '2017-11-13 13:54:15'),\n",
    " ('2017-11-14 08:40:29', '2017-11-14 08:55:52'),\n",
    " ('2017-11-15 06:14:05', '2017-11-15 06:30:06'),\n",
    " ('2017-11-15 08:14:59', '2017-11-15 08:23:44'),\n",
    " ('2017-11-15 10:16:44', '2017-11-15 10:33:41'),\n",
    " ('2017-11-15 10:33:58', '2017-11-15 10:54:14'),\n",
    " ('2017-11-15 11:02:15', '2017-11-15 11:14:42'),\n",
    " ('2017-11-16 09:27:41', '2017-11-16 09:38:49'),\n",
    " ('2017-11-16 09:57:41', '2017-11-16 10:18:00'),\n",
    " ('2017-11-16 17:25:05', '2017-11-16 17:44:47'),\n",
    " ('2017-11-17 13:45:54', '2017-11-17 16:36:56'),\n",
    " ('2017-11-17 19:12:49', '2017-11-17 19:31:15'),\n",
    " ('2017-11-18 10:49:06', '2017-11-18 10:55:45'),\n",
    " ('2017-11-18 11:32:12', '2017-11-18 11:44:16'),\n",
    " ('2017-11-18 18:09:01', '2017-11-18 18:14:31'),\n",
    " ('2017-11-18 18:53:10', '2017-11-18 19:01:29'),\n",
    " ('2017-11-19 14:15:41', '2017-11-19 14:31:49'),\n",
    " ('2017-11-20 21:19:19', '2017-11-20 21:41:09'),\n",
    " ('2017-11-20 22:39:48', '2017-11-20 23:23:37'),\n",
    " ('2017-11-21 17:44:25', '2017-11-21 17:51:32'),\n",
    " ('2017-11-21 18:20:52', '2017-11-21 18:34:51'),\n",
    " ('2017-11-21 18:47:32', '2017-11-21 18:51:50'),\n",
    " ('2017-11-21 19:07:57', '2017-11-21 19:14:33'),\n",
    " ('2017-11-21 20:04:56', '2017-11-21 20:08:54'),\n",
    " ('2017-11-21 21:55:47', '2017-11-21 22:08:12'),\n",
    " ('2017-11-23 23:47:43', '2017-11-23 23:57:56'),\n",
    " ('2017-11-24 06:41:25', '2017-11-24 06:53:15'),\n",
    " ('2017-11-24 06:58:56', '2017-11-24 07:33:24'),\n",
    " ('2017-11-26 12:25:49', '2017-11-26 12:41:36'),\n",
    " ('2017-11-27 05:29:04', '2017-11-27 05:54:13'),\n",
    " ('2017-11-27 06:06:47', '2017-11-27 06:11:01'),\n",
    " ('2017-11-27 06:45:14', '2017-11-27 06:55:39'),\n",
    " ('2017-11-27 09:39:44', '2017-11-27 09:47:43'),\n",
    " ('2017-11-27 11:09:18', '2017-11-27 11:20:46'),\n",
    " ('2017-11-27 11:31:46', '2017-11-27 11:35:44'),\n",
    " ('2017-11-27 12:07:14', '2017-11-27 12:12:36'),\n",
    " ('2017-11-27 12:21:40', '2017-11-27 12:26:44'),\n",
    " ('2017-11-27 17:26:31', '2017-11-27 17:36:07'),\n",
    " ('2017-11-27 18:11:49', '2017-11-27 18:29:04'),\n",
    " ('2017-11-27 19:36:16', '2017-11-27 19:47:17'),\n",
    " ('2017-11-27 20:12:57', '2017-11-27 20:17:33'),\n",
    " ('2017-11-28 08:18:06', '2017-11-28 08:41:53'),\n",
    " ('2017-11-28 19:17:23', '2017-11-28 19:34:01'),\n",
    " ('2017-11-28 19:34:15', '2017-11-28 19:46:24'),\n",
    " ('2017-11-28 21:27:29', '2017-11-28 21:39:32'),\n",
    " ('2017-11-29 07:47:38', '2017-11-29 07:51:18'),\n",
    " ('2017-11-29 09:50:12', '2017-11-29 09:53:44'),\n",
    " ('2017-11-29 17:03:42', '2017-11-29 17:16:21'),\n",
    " ('2017-11-29 18:19:15', '2017-11-29 18:23:43'),\n",
    " ('2017-12-01 17:03:58', '2017-12-01 17:10:12'),\n",
    " ('2017-12-02 07:55:56', '2017-12-02 08:01:01'),\n",
    " ('2017-12-02 09:16:14', '2017-12-02 09:21:18'),\n",
    " ('2017-12-02 19:48:29', '2017-12-02 19:53:18'),\n",
    " ('2017-12-03 14:36:29', '2017-12-03 15:20:09'),\n",
    " ('2017-12-03 16:04:02', '2017-12-03 16:25:30'),\n",
    " ('2017-12-03 16:40:26', '2017-12-03 16:43:58'),\n",
    " ('2017-12-03 17:20:17', '2017-12-03 18:04:33'),\n",
    " ('2017-12-04 08:34:24', '2017-12-04 08:51:00'),\n",
    " ('2017-12-04 17:49:26', '2017-12-04 17:53:57'),\n",
    " ('2017-12-04 18:38:52', '2017-12-04 18:50:33'),\n",
    " ('2017-12-04 21:39:20', '2017-12-04 21:46:58'),\n",
    " ('2017-12-04 21:54:21', '2017-12-04 21:56:17'),\n",
    " ('2017-12-05 08:50:50', '2017-12-05 08:52:54'),\n",
    " ('2017-12-06 08:19:38', '2017-12-06 08:24:14'),\n",
    " ('2017-12-06 18:19:19', '2017-12-06 18:28:11'),\n",
    " ('2017-12-06 18:28:55', '2017-12-06 18:33:12'),\n",
    " ('2017-12-06 20:03:29', '2017-12-06 20:21:38'),\n",
    " ('2017-12-06 20:36:42', '2017-12-06 20:39:57'),\n",
    " ('2017-12-07 05:54:51', '2017-12-07 06:01:15'),\n",
    " ('2017-12-08 16:47:18', '2017-12-08 16:55:49'),\n",
    " ('2017-12-08 19:15:02', '2017-12-08 19:29:12'),\n",
    " ('2017-12-09 22:39:37', '2017-12-09 22:47:19'),\n",
    " ('2017-12-09 23:00:10', '2017-12-09 23:05:32'),\n",
    " ('2017-12-10 00:39:24', '2017-12-10 00:56:02'),\n",
    " ('2017-12-10 01:02:42', '2017-12-10 01:08:09'),\n",
    " ('2017-12-10 01:08:57', '2017-12-10 01:11:30'),\n",
    " ('2017-12-10 13:49:09', '2017-12-10 13:51:41'),\n",
    " ('2017-12-10 15:14:29', '2017-12-10 15:18:19'),\n",
    " ('2017-12-10 15:31:07', '2017-12-10 15:36:28'),\n",
    " ('2017-12-10 16:20:06', '2017-12-10 16:30:31'),\n",
    " ('2017-12-10 17:07:54', '2017-12-10 17:14:25'),\n",
    " ('2017-12-10 17:23:47', '2017-12-10 17:45:25'),\n",
    " ('2017-12-11 06:17:06', '2017-12-11 06:34:04'),\n",
    " ('2017-12-11 09:08:41', '2017-12-11 09:12:21'),\n",
    " ('2017-12-11 09:15:41', '2017-12-11 09:20:18'),\n",
    " ('2017-12-12 08:55:53', '2017-12-12 08:59:34'),\n",
    " ('2017-12-13 17:14:56', '2017-12-13 17:18:32'),\n",
    " ('2017-12-13 18:52:16', '2017-12-13 19:00:45'),\n",
    " ('2017-12-14 09:01:10', '2017-12-14 09:11:06'),\n",
    " ('2017-12-14 09:12:59', '2017-12-14 09:19:06'),\n",
    " ('2017-12-14 11:54:33', '2017-12-14 12:02:00'),\n",
    " ('2017-12-14 14:40:23', '2017-12-14 14:44:40'),\n",
    " ('2017-12-14 15:08:55', '2017-12-14 15:26:24'),\n",
    " ('2017-12-14 17:46:17', '2017-12-14 18:09:04'),\n",
    " ('2017-12-15 09:08:12', '2017-12-15 09:23:45'),\n",
    " ('2017-12-16 09:33:46', '2017-12-16 09:36:17'),\n",
    " ('2017-12-16 11:02:31', '2017-12-16 11:05:04'),\n",
    " ('2017-12-17 10:09:47', '2017-12-17 10:32:03'),\n",
    " ('2017-12-18 08:02:36', '2017-12-18 08:07:34'),\n",
    " ('2017-12-18 16:03:00', '2017-12-18 16:09:20'),\n",
    " ('2017-12-18 16:30:07', '2017-12-18 16:53:12'),\n",
    " ('2017-12-18 19:18:23', '2017-12-18 19:22:08'),\n",
    " ('2017-12-18 20:14:46', '2017-12-18 20:17:47'),\n",
    " ('2017-12-19 19:14:08', '2017-12-19 19:23:49'),\n",
    " ('2017-12-19 19:39:36', '2017-12-19 19:43:46'),\n",
    " ('2017-12-20 08:05:14', '2017-12-20 08:10:46'),\n",
    " ('2017-12-20 08:15:45', '2017-12-20 08:29:50'),\n",
    " ('2017-12-20 08:33:32', '2017-12-20 08:38:09'),\n",
    " ('2017-12-20 13:43:36', '2017-12-20 13:54:39'),\n",
    " ('2017-12-20 18:57:53', '2017-12-20 19:06:54'),\n",
    " ('2017-12-21 07:21:11', '2017-12-21 07:32:03'),\n",
    " ('2017-12-21 08:01:58', '2017-12-21 08:06:15'),\n",
    " ('2017-12-21 13:20:54', '2017-12-21 13:33:49'),\n",
    " ('2017-12-21 15:26:08', '2017-12-21 15:34:27'),\n",
    " ('2017-12-21 18:09:46', '2017-12-21 18:38:50'),\n",
    " ('2017-12-22 16:14:21', '2017-12-22 16:21:46'),\n",
    " ('2017-12-22 16:29:17', '2017-12-22 16:34:14'),\n",
    " ('2017-12-25 12:49:51', '2017-12-25 13:18:27'),\n",
    " ('2017-12-25 13:46:44', '2017-12-25 14:20:50'),\n",
    " ('2017-12-26 10:40:16', '2017-12-26 10:53:45'),\n",
    " ('2017-12-27 16:56:12', '2017-12-27 17:17:39'),\n",
    " ('2017-12-29 06:02:34', '2017-12-29 06:12:30'),\n",
    " ('2017-12-29 12:21:03', '2017-12-29 12:46:16'),\n",
    " ('2017-12-29 14:32:55', '2017-12-29 14:43:46'),\n",
    " ('2017-12-29 15:08:26', '2017-12-29 15:18:51'),\n",
    " ('2017-12-29 20:33:34', '2017-12-29 20:38:13'),\n",
    " ('2017-12-30 13:51:03', '2017-12-30 13:54:33'),\n",
    " ('2017-12-30 15:09:03', '2017-12-30 15:19:13')]\n",
    "\n",
    "# Write down the format string\n",
    "fmt = \"%Y-%m-%d %H:%M:%S\"\n",
    "\n",
    "# Initialize a list for holding the pairs of datetime objects\n",
    "onebike_datetimes = []\n",
    "\n",
    "# Loop over all trips\n",
    "for (start, end) in onebike_datetime_strings:\n",
    "  trip = {'end': datetime.strptime(end, fmt),\n",
    "          'start': datetime.strptime(start, fmt)}\n",
    "  \n",
    "  # Append the trip\n",
    "  onebike_datetimes.append(trip)"
   ]
  },
  {
   "cell_type": "markdown",
   "metadata": {},
   "source": [
    "<font size=\"5\"><b>Setting timezones</b></font><br/>\n",
    "\n",
    "Now that you have the hang of setting timezones one at a time, let's look at setting them for the first ten trips that W20529 took.\n",
    "\n",
    "timezone and timedelta have already been imported. Make the change using .replace()\n",
    "\n",
    "<b>Instructions</b>\n",
    "- Create edt, a timezone object whose UTC offset is -4 hours.\n",
    "- Within the for loop:\n",
    "- Set the tzinfo for trip['start'].\n",
    "- Set the tzinfo for trip['end']."
   ]
  },
  {
   "cell_type": "code",
   "execution_count": 5,
   "metadata": {},
   "outputs": [],
   "source": [
    "# Create a timezone object corresponding to UTC-4\n",
    "edt = timezone(timedelta(hours=-4))\n",
    "\n",
    "# Loop over trips, updating the start and end datetimes to be in UTC-4\n",
    "for trip in onebike_datetimes[:10]:\n",
    "  # Update trip['start'] and trip['end']\n",
    "  trip['start'] = trip['start'].replace(tzinfo=edt)\n",
    "  trip['end'] = trip['end'].replace(tzinfo=edt)"
   ]
  },
  {
   "cell_type": "markdown",
   "metadata": {},
   "source": [
    "<b>Awesome! Did you know that despite being over 2,500 miles (4,200 km) wide (about as wide as the continential United States or the European Union) China has only one official timezone? There's a second, unofficial timezone, too. It is used by much of the Uyghurs population in the Xinjiang province in the far west of China.</b>"
   ]
  },
  {
   "cell_type": "markdown",
   "metadata": {},
   "source": [
    "<font size=\"5\"><b>What time did the bike leave in UTC?</b></font><br/>\n",
    "\n",
    "Having set the timezone for the first ten rides that W20529 took, let's see what time the bike left in UTC. We've already loaded the results of the previous exercise into memory.\n",
    "\n",
    "<b>Instructions</b>\n",
    "- Within the for loop, set dt to be the trip['start'] but moved to UTC. Use timezone.utc as a convenient shortcut for UTC."
   ]
  },
  {
   "cell_type": "code",
   "execution_count": 6,
   "metadata": {},
   "outputs": [
    {
     "name": "stdout",
     "output_type": "stream",
     "text": [
      "Original: 2017-10-01 15:23:25-04:00 | UTC: 2017-10-01T19:23:25+00:00\n",
      "Original: 2017-10-01 15:42:57-04:00 | UTC: 2017-10-01T19:42:57+00:00\n",
      "Original: 2017-10-02 06:37:10-04:00 | UTC: 2017-10-02T10:37:10+00:00\n",
      "Original: 2017-10-02 08:56:45-04:00 | UTC: 2017-10-02T12:56:45+00:00\n",
      "Original: 2017-10-02 18:23:48-04:00 | UTC: 2017-10-02T22:23:48+00:00\n",
      "Original: 2017-10-02 18:48:08-04:00 | UTC: 2017-10-02T22:48:08+00:00\n",
      "Original: 2017-10-02 19:18:10-04:00 | UTC: 2017-10-02T23:18:10+00:00\n",
      "Original: 2017-10-02 19:37:32-04:00 | UTC: 2017-10-02T23:37:32+00:00\n",
      "Original: 2017-10-03 08:24:16-04:00 | UTC: 2017-10-03T12:24:16+00:00\n",
      "Original: 2017-10-03 18:17:07-04:00 | UTC: 2017-10-03T22:17:07+00:00\n"
     ]
    }
   ],
   "source": [
    "# Loop over the trips\n",
    "for trip in onebike_datetimes[:10]:\n",
    "  # Pull out the start and set it to UTC\n",
    "  dt = trip['start'].astimezone(timezone.utc)\n",
    "  \n",
    "  # Print the start time in UTC\n",
    "  print('Original:', trip['start'], '| UTC:', dt.isoformat())"
   ]
  },
  {
   "cell_type": "markdown",
   "metadata": {},
   "source": [
    "<b>Excellent! Did you know that there is no official time zone at the North or South pole? Since all the lines of longitude meet each other, it's up to each traveler (or research station) to decide what time they want to use.</b>"
   ]
  },
  {
   "cell_type": "markdown",
   "metadata": {},
   "source": [
    "<font size=\"5\"><b>Putting the bike trips into the right time zone</b></font><br/>\n",
    "\n",
    "Instead of setting the timezones for W20529 by hand, let's assign them to their IANA timezone: 'America/New_York'. Since we know their political jurisdiction, we don't need to look up their UTC offset. Python will do that for us.\n",
    "\n",
    "<b>Instructions</b>\n",
    "- Import tz from dateutil.\n",
    "- Assign et to be the timezone 'America/New_York'.\n",
    "- Within the for loop, set start and end to have et as their timezone (use .replace())."
   ]
  },
  {
   "cell_type": "code",
   "execution_count": 7,
   "metadata": {},
   "outputs": [],
   "source": [
    "# Import tz\n",
    "from dateutil import tz\n",
    "\n",
    "# Create a timezone object for Eastern Time\n",
    "et = tz.gettz('America/New_York')\n",
    "\n",
    "# Loop over trips, updating the datetimes to be in Eastern Time\n",
    "for trip in onebike_datetimes[:10]:\n",
    "  # Update trip['start'] and trip['end']\n",
    "  trip['start'] = trip['start'].replace(tzinfo=et)\n",
    "  trip['end'] = trip['end'].replace(tzinfo=et)"
   ]
  },
  {
   "cell_type": "markdown",
   "metadata": {},
   "source": [
    "<b>Great! Time zone rules actually change quite frequently. IANA time zone data gets updated every 3-4 months, as different jurisdictions make changes to their laws about time or as more historical information about timezones are uncovered. tz is smart enough to use the date in your datetime to determine which rules to use historically.</b>"
   ]
  },
  {
   "cell_type": "markdown",
   "metadata": {},
   "source": [
    "<font size=\"5\"><b>What time did the bike leave? (Global edition)</b></font><br/>\n",
    "\n",
    "When you need to move a datetime from one timezone into another, use .astimezone() and tz. Often you will be moving things into UTC, but for fun let's try moving things from 'America/New_York' into a few different time zones.\n",
    "\n",
    "<b>Instructions</b>\n",
    "\n",
    "- Set uk to be the timezone for the UK: 'Europe/London'.\n",
    "- Change local to be in the uk timezone and assign it to notlocal.\n"
   ]
  },
  {
   "cell_type": "code",
   "execution_count": 8,
   "metadata": {},
   "outputs": [
    {
     "name": "stdout",
     "output_type": "stream",
     "text": [
      "2017-10-01T15:23:25-04:00\n",
      "2017-10-01T20:23:25+01:00\n"
     ]
    }
   ],
   "source": [
    "# Create the timezone object\n",
    "uk = tz.gettz('Europe/London')\n",
    "\n",
    "# Pull out the start of the first trip\n",
    "local = onebike_datetimes[0]['start']\n",
    "\n",
    "# What time was it in the UK?\n",
    "notlocal = local.astimezone(uk)\n",
    "\n",
    "# Print them out and see the difference\n",
    "print(local.isoformat())\n",
    "print(notlocal.isoformat())"
   ]
  },
  {
   "cell_type": "markdown",
   "metadata": {},
   "source": [
    "<b>Instructions</b>\n",
    "- Set ist to be the timezone for India: 'Asia/Kolkata'.\n",
    "- Change local to be in the ist timezone and assign it to notlocal."
   ]
  },
  {
   "cell_type": "code",
   "execution_count": 9,
   "metadata": {},
   "outputs": [
    {
     "name": "stdout",
     "output_type": "stream",
     "text": [
      "2017-10-01T15:23:25-04:00\n",
      "2017-10-02T00:53:25+05:30\n"
     ]
    }
   ],
   "source": [
    "# Create the timezone object\n",
    "ist = tz.gettz('Asia/Kolkata')\n",
    "\n",
    "# Pull out the start of the first trip\n",
    "local = onebike_datetimes[0]['start']\n",
    "\n",
    "# What time was it in India?\n",
    "notlocal = local.astimezone(ist)\n",
    "\n",
    "# Print them out and see the difference\n",
    "print(local.isoformat())\n",
    "print(notlocal.isoformat())"
   ]
  },
  {
   "cell_type": "markdown",
   "metadata": {},
   "source": [
    "<b>Instructions</b>\n",
    "- Set sm to be the timezone for Samoa: 'Pacific/Apia'.\n",
    "- Change local to be in the sm timezone and assign it to notlocal"
   ]
  },
  {
   "cell_type": "code",
   "execution_count": 10,
   "metadata": {},
   "outputs": [
    {
     "name": "stdout",
     "output_type": "stream",
     "text": [
      "2017-10-01T15:23:25-04:00\n",
      "2017-10-02T09:23:25+14:00\n"
     ]
    }
   ],
   "source": [
    "# Create the timezone object\n",
    "sm = tz.gettz('Pacific/Apia')\n",
    "\n",
    "# Pull out the start of the first trip\n",
    "local = onebike_datetimes[0]['start']\n",
    "\n",
    "# What time was it in Samoa?\n",
    "notlocal = local.astimezone(sm)\n",
    "\n",
    "# Print them out and see the difference\n",
    "print(local.isoformat())\n",
    "print(notlocal.isoformat())"
   ]
  },
  {
   "cell_type": "markdown",
   "metadata": {},
   "source": [
    "<b>Did you notice the time offset for this one? It's at UTC+14! Samoa used to be UTC-10, but in 2011 it changed to the other side of the International Date Line to better match New Zealand, its closest trading partner. However, they wanted to keep the clocks the same, so the UTC offset shifted from -10 to +14, since 24-10 is 14. Timezones... not simple!</b>"
   ]
  },
  {
   "cell_type": "markdown",
   "metadata": {},
   "source": [
    "<font size=\"5\"><b>How many hours elapsed around daylight saving?</b></font><br/>\n",
    "\n",
    "Since our bike data takes place in the fall, you'll have to do something else to learn about the start of daylight savings time.\n",
    "\n",
    "Let's look at March 12, 2017, in the Eastern United States, when Daylight Saving kicked in at 2 AM.\n",
    "\n",
    "If you create a datetime for midnight that night, and add 6 hours to it, how much time will have elapsed?\n",
    "\n",
    "<b>Instructions</b>\n",
    "- You already have a datetime called start, set for March 12, 2017 at midnight, set to the timezone 'America/New_York'.\n",
    "- Add six hours to start and assign it to end. Look at the UTC offset for the two results."
   ]
  },
  {
   "cell_type": "code",
   "execution_count": 11,
   "metadata": {},
   "outputs": [
    {
     "name": "stdout",
     "output_type": "stream",
     "text": [
      "2017-03-12T00:00:00-05:00 to 2017-03-12T06:00:00-04:00\n"
     ]
    }
   ],
   "source": [
    "# Import datetime, timedelta, tz, timezone\n",
    "from datetime import datetime, timedelta, timezone\n",
    "from dateutil import tz\n",
    "\n",
    "# Start on March 12, 2017, midnight, then add 6 hours\n",
    "start = datetime(2017, 3, 12, tzinfo = tz.gettz('America/New_York'))\n",
    "end = start + timedelta(hours=6)\n",
    "print(start.isoformat() + \" to \" + end.isoformat())"
   ]
  },
  {
   "cell_type": "markdown",
   "metadata": {},
   "source": [
    "<b>Instructions</b>\n",
    "\n",
    "You added 6 hours, and got 6 AM, despite the fact that the clocks springing forward means only 5 hours would have actually elapsed!\n",
    "\n",
    "Calculate the time between start and end. How much time does Python think has elapsed?"
   ]
  },
  {
   "cell_type": "code",
   "execution_count": 12,
   "metadata": {},
   "outputs": [
    {
     "name": "stdout",
     "output_type": "stream",
     "text": [
      "6.0\n"
     ]
    }
   ],
   "source": [
    "# How many hours have elapsed?\n",
    "print((end - start).total_seconds()/(60*60))"
   ]
  },
  {
   "cell_type": "markdown",
   "metadata": {},
   "source": [
    "<b>Instructions</b>\n",
    "\n",
    "Move your datetime objects into UTC and calculate the elapsed time again.\n",
    "\n",
    "Once you're in UTC, what result do you get?"
   ]
  },
  {
   "cell_type": "code",
   "execution_count": 13,
   "metadata": {},
   "outputs": [
    {
     "name": "stdout",
     "output_type": "stream",
     "text": [
      "5.0\n"
     ]
    }
   ],
   "source": [
    "# What if we move to UTC?\n",
    "print((end.astimezone(timezone.utc) - start.astimezone(timezone.utc))\\\n",
    "      .total_seconds()/(60*60))"
   ]
  },
  {
   "cell_type": "markdown",
   "metadata": {},
   "source": [
    "<b>When we compare times in local time zones, everything gets converted into clock time. Remember if you want to get absolute time differences, always move to UTC!</b>"
   ]
  },
  {
   "cell_type": "markdown",
   "metadata": {},
   "source": [
    "<font size=\"5\"><b>March 29, throughout a decade</b></font><br/>\n",
    "\n",
    "Daylight Saving rules are complicated: they're different in different places, they change over time, and they usually start on a Sunday (and so they move around the calendar).\n",
    "\n",
    "For example, in the United Kingdom, as of the time this lesson was written, Daylight Saving begins on the last Sunday in March. Let's look at the UTC offset for March 29, at midnight, for the years 2000 to 2010.\n",
    "\n",
    "<b>Instructions</b>\n",
    "\n",
    "- Using tz, set the timezone for dt to be 'Europe/London'.\n",
    "- Within the for loop:\n",
    "- Use the .replace() method to change the year for dt to be y.\n",
    "- Call .isoformat() on the result to observe the results."
   ]
  },
  {
   "cell_type": "code",
   "execution_count": 14,
   "metadata": {},
   "outputs": [
    {
     "name": "stdout",
     "output_type": "stream",
     "text": [
      "2000-03-29T00:00:00+01:00\n",
      "2001-03-29T00:00:00+01:00\n",
      "2002-03-29T00:00:00+00:00\n",
      "2003-03-29T00:00:00+00:00\n",
      "2004-03-29T00:00:00+01:00\n",
      "2005-03-29T00:00:00+01:00\n",
      "2006-03-29T00:00:00+01:00\n",
      "2007-03-29T00:00:00+01:00\n",
      "2008-03-29T00:00:00+00:00\n",
      "2009-03-29T00:00:00+00:00\n",
      "2010-03-29T00:00:00+01:00\n"
     ]
    }
   ],
   "source": [
    "# Import datetime and tz\n",
    "from datetime import datetime\n",
    "from dateutil import tz\n",
    "\n",
    "# Create starting date\n",
    "dt = datetime(2000, 3, 29, tzinfo = tz.gettz('Europe/London'))\n",
    "\n",
    "# Loop over the dates, replacing the year, and print the ISO timestamp\n",
    "for y in range(2000, 2011):\n",
    "  print(dt.replace(year=y).isoformat())"
   ]
  },
  {
   "cell_type": "markdown",
   "metadata": {},
   "source": [
    "<b>Nice!As you can see, the rules for Daylight Saving are not trivial. When in doubt, always use tz instead of hand-rolling timezones, so it will catch the Daylight Saving rules (and rule changes!) for you.</b>"
   ]
  },
  {
   "cell_type": "code",
   "execution_count": 15,
   "metadata": {
    "code_folding": [
     1
    ]
   },
   "outputs": [],
   "source": [
    "#define onebike_datetime_strings\n",
    "onebike_datetime_strings = [('2017-10-01 15:23:25', '2017-10-01 15:26:26'),\n",
    " ('2017-10-01 15:42:57', '2017-10-01 17:49:59'),\n",
    " ('2017-10-02 06:37:10', '2017-10-02 06:42:53'),\n",
    " ('2017-10-02 08:56:45', '2017-10-02 09:18:03'),\n",
    " ('2017-10-02 18:23:48', '2017-10-02 18:45:05'),\n",
    " ('2017-10-02 18:48:08', '2017-10-02 19:10:54'),\n",
    " ('2017-10-02 19:18:10', '2017-10-02 19:31:45'),\n",
    " ('2017-10-02 19:37:32', '2017-10-02 19:46:37'),\n",
    " ('2017-10-03 08:24:16', '2017-10-03 08:32:27'),\n",
    " ('2017-10-03 18:17:07', '2017-10-03 18:27:46'),\n",
    " ('2017-10-03 19:24:10', '2017-10-03 19:52:08'),\n",
    " ('2017-10-03 20:17:06', '2017-10-03 20:23:52'),\n",
    " ('2017-10-03 20:45:21', '2017-10-03 20:57:10'),\n",
    " ('2017-10-04 07:04:57', '2017-10-04 07:13:31'),\n",
    " ('2017-10-04 07:13:42', '2017-10-04 07:21:54'),\n",
    " ('2017-10-04 14:22:12', '2017-10-04 14:50:00'),\n",
    " ('2017-10-04 15:07:27', '2017-10-04 15:44:49'),\n",
    " ('2017-10-04 15:46:41', '2017-10-04 16:32:33'),\n",
    " ('2017-10-04 16:34:44', '2017-10-04 16:46:59'),\n",
    " ('2017-10-04 17:26:06', '2017-10-04 17:31:36'),\n",
    " ('2017-10-04 17:42:03', '2017-10-04 17:50:41'),\n",
    " ('2017-10-05 07:49:02', '2017-10-05 08:12:55'),\n",
    " ('2017-10-05 08:26:21', '2017-10-05 08:29:45'),\n",
    " ('2017-10-05 08:33:27', '2017-10-05 08:38:31'),\n",
    " ('2017-10-05 16:35:35', '2017-10-05 16:51:52'),\n",
    " ('2017-10-05 17:53:31', '2017-10-05 18:16:50'),\n",
    " ('2017-10-06 08:17:17', '2017-10-06 08:38:01'),\n",
    " ('2017-10-06 11:39:40', '2017-10-06 11:50:38'),\n",
    " ('2017-10-06 12:59:54', '2017-10-06 13:13:14'),\n",
    " ('2017-10-06 13:43:05', '2017-10-06 14:14:56'),\n",
    " ('2017-10-06 14:28:15', '2017-10-06 15:09:26'),\n",
    " ('2017-10-06 15:50:10', '2017-10-06 16:12:34'),\n",
    " ('2017-10-06 16:32:16', '2017-10-06 16:39:31'),\n",
    " ('2017-10-06 16:44:08', '2017-10-06 16:48:39'),\n",
    " ('2017-10-06 16:53:43', '2017-10-06 17:09:03'),\n",
    " ('2017-10-07 11:38:55', '2017-10-07 11:53:06'),\n",
    " ('2017-10-07 14:03:36', '2017-10-07 14:07:05'),\n",
    " ('2017-10-07 14:20:03', '2017-10-07 14:27:36'),\n",
    " ('2017-10-07 14:30:50', '2017-10-07 14:44:51'),\n",
    " ('2017-10-08 00:28:26', '2017-10-08 00:30:48'),\n",
    " ('2017-10-08 11:16:21', '2017-10-08 11:33:24'),\n",
    " ('2017-10-08 12:37:03', '2017-10-08 13:01:29'),\n",
    " ('2017-10-08 13:30:37', '2017-10-08 13:57:53'),\n",
    " ('2017-10-08 14:16:40', '2017-10-08 15:07:19'),\n",
    " ('2017-10-08 15:23:50', '2017-10-08 15:50:01'),\n",
    " ('2017-10-08 15:54:12', '2017-10-08 16:17:42'),\n",
    " ('2017-10-08 16:28:52', '2017-10-08 16:35:18'),\n",
    " ('2017-10-08 23:08:14', '2017-10-08 23:33:41'),\n",
    " ('2017-10-08 23:34:49', '2017-10-08 23:45:11'),\n",
    " ('2017-10-08 23:46:47', '2017-10-09 00:10:57'),\n",
    " ('2017-10-09 00:12:58', '2017-10-09 00:36:40'),\n",
    " ('2017-10-09 00:37:02', '2017-10-09 00:53:33'),\n",
    " ('2017-10-09 01:23:29', '2017-10-09 01:48:13'),\n",
    " ('2017-10-09 01:49:25', '2017-10-09 02:13:35'),\n",
    " ('2017-10-09 02:14:11', '2017-10-09 02:29:40'),\n",
    " ('2017-10-09 13:04:32', '2017-10-09 13:13:25'),\n",
    " ('2017-10-09 14:30:10', '2017-10-09 14:38:55'),\n",
    " ('2017-10-09 15:06:47', '2017-10-09 15:11:30'),\n",
    " ('2017-10-09 16:43:25', '2017-10-09 16:45:38'),\n",
    " ('2017-10-10 15:32:58', '2017-10-10 15:51:24'),\n",
    " ('2017-10-10 16:47:55', '2017-10-10 17:03:47'),\n",
    " ('2017-10-10 17:51:05', '2017-10-10 18:00:18'),\n",
    " ('2017-10-10 18:08:12', '2017-10-10 18:19:11'),\n",
    " ('2017-10-10 19:09:35', '2017-10-10 19:14:32'),\n",
    " ('2017-10-10 19:17:11', '2017-10-10 19:23:08'),\n",
    " ('2017-10-10 19:28:11', '2017-10-10 19:44:40'),\n",
    " ('2017-10-10 19:55:35', '2017-10-10 20:11:54'),\n",
    " ('2017-10-10 22:20:43', '2017-10-10 22:33:23'),\n",
    " ('2017-10-11 04:40:52', '2017-10-11 04:59:22'),\n",
    " ('2017-10-11 06:28:58', '2017-10-11 06:40:13'),\n",
    " ('2017-10-11 16:41:07', '2017-10-11 17:01:14'),\n",
    " ('2017-10-12 08:08:30', '2017-10-12 08:35:03'),\n",
    " ('2017-10-12 08:47:02', '2017-10-12 08:59:50'),\n",
    " ('2017-10-12 13:13:39', '2017-10-12 13:37:45'),\n",
    " ('2017-10-12 13:40:12', '2017-10-12 13:48:17'),\n",
    " ('2017-10-12 13:49:56', '2017-10-12 13:53:16'),\n",
    " ('2017-10-12 14:33:18', '2017-10-12 14:39:57'),\n",
    " ('2017-10-13 15:55:39', '2017-10-13 15:59:41'),\n",
    " ('2017-10-17 17:58:48', '2017-10-17 18:01:38'),\n",
    " ('2017-10-19 20:21:45', '2017-10-19 20:29:15'),\n",
    " ('2017-10-19 21:11:39', '2017-10-19 21:29:37'),\n",
    " ('2017-10-19 21:30:01', '2017-10-19 21:47:23'),\n",
    " ('2017-10-19 21:47:34', '2017-10-19 21:57:07'),\n",
    " ('2017-10-19 21:57:24', '2017-10-19 22:09:52'),\n",
    " ('2017-10-21 12:24:09', '2017-10-21 12:36:24'),\n",
    " ('2017-10-21 12:36:37', '2017-10-21 12:42:13'),\n",
    " ('2017-10-21 13:47:43', '2017-10-22 11:09:36'),\n",
    " ('2017-10-22 13:28:53', '2017-10-22 13:31:44'),\n",
    " ('2017-10-22 13:47:05', '2017-10-22 13:56:33'),\n",
    " ('2017-10-22 14:26:41', '2017-10-22 14:32:39'),\n",
    " ('2017-10-22 14:54:41', '2017-10-22 15:09:58'),\n",
    " ('2017-10-22 16:40:29', '2017-10-22 16:51:40'),\n",
    " ('2017-10-22 17:58:46', '2017-10-22 18:28:37'),\n",
    " ('2017-10-22 18:45:16', '2017-10-22 18:50:34'),\n",
    " ('2017-10-22 18:56:22', '2017-10-22 19:11:10'),\n",
    " ('2017-10-23 10:14:08', '2017-10-23 10:35:32'),\n",
    " ('2017-10-23 11:29:36', '2017-10-23 14:38:34'),\n",
    " ('2017-10-23 15:04:52', '2017-10-23 15:32:58'),\n",
    " ('2017-10-23 15:33:48', '2017-10-23 17:06:47'),\n",
    " ('2017-10-23 17:13:16', '2017-10-23 19:31:26'),\n",
    " ('2017-10-23 19:55:03', '2017-10-23 20:25:53'),\n",
    " ('2017-10-23 21:47:54', '2017-10-23 22:18:04'),\n",
    " ('2017-10-23 22:34:12', '2017-10-23 22:48:42'),\n",
    " ('2017-10-24 06:55:01', '2017-10-24 07:02:17'),\n",
    " ('2017-10-24 14:56:07', '2017-10-24 15:03:16'),\n",
    " ('2017-10-24 15:51:36', '2017-10-24 15:59:50'),\n",
    " ('2017-10-24 16:31:10', '2017-10-24 16:55:09'),\n",
    " ('2017-10-28 14:26:14', '2017-10-28 14:32:34'),\n",
    " ('2017-11-01 09:41:54', '2017-11-01 09:52:23'),\n",
    " ('2017-11-01 20:16:11', '2017-11-01 20:32:13'),\n",
    " ('2017-11-02 19:44:29', '2017-11-02 19:50:56'),\n",
    " ('2017-11-02 20:14:37', '2017-11-02 20:30:29'),\n",
    " ('2017-11-02 21:35:47', '2017-11-02 21:38:57'),\n",
    " ('2017-11-03 09:59:27', '2017-11-03 10:11:46'),\n",
    " ('2017-11-03 10:13:22', '2017-11-03 10:32:02'),\n",
    " ('2017-11-03 10:44:25', '2017-11-03 10:50:34'),\n",
    " ('2017-11-03 16:06:43', '2017-11-03 16:44:38'),\n",
    " ('2017-11-03 16:45:54', '2017-11-03 17:00:27'),\n",
    " ('2017-11-03 17:07:15', '2017-11-03 17:35:05'),\n",
    " ('2017-11-03 17:36:05', '2017-11-03 17:46:48'),\n",
    " ('2017-11-03 17:50:31', '2017-11-03 18:00:03'),\n",
    " ('2017-11-03 19:22:56', '2017-11-03 19:45:51'),\n",
    " ('2017-11-04 13:14:10', '2017-11-04 13:26:15'),\n",
    " ('2017-11-04 14:18:37', '2017-11-04 14:30:05'),\n",
    " ('2017-11-04 14:45:59', '2017-11-04 15:03:20'),\n",
    " ('2017-11-04 15:16:03', '2017-11-04 15:44:30'),\n",
    " ('2017-11-04 16:37:46', '2017-11-04 16:58:22'),\n",
    " ('2017-11-04 17:13:19', '2017-11-04 17:34:50'),\n",
    " ('2017-11-04 18:10:34', '2017-11-04 18:58:44'),\n",
    " ('2017-11-05 01:56:50', '2017-11-05 01:01:04'),\n",
    " ('2017-11-05 08:33:33', '2017-11-05 08:53:46'),\n",
    " ('2017-11-05 08:58:08', '2017-11-05 09:03:39'),\n",
    " ('2017-11-05 11:05:08', '2017-11-05 11:30:05'),\n",
    " ('2017-11-06 08:50:18', '2017-11-06 08:59:05'),\n",
    " ('2017-11-06 09:04:03', '2017-11-06 09:13:47'),\n",
    " ('2017-11-06 16:19:36', '2017-11-06 17:02:55'),\n",
    " ('2017-11-06 17:21:27', '2017-11-06 17:34:06'),\n",
    " ('2017-11-06 17:36:01', '2017-11-06 17:57:32'),\n",
    " ('2017-11-06 17:59:52', '2017-11-06 18:15:08'),\n",
    " ('2017-11-06 18:18:36', '2017-11-06 18:21:17'),\n",
    " ('2017-11-06 19:24:31', '2017-11-06 19:37:57'),\n",
    " ('2017-11-06 19:49:16', '2017-11-06 20:03:14'),\n",
    " ('2017-11-07 07:50:48', '2017-11-07 08:01:32'),\n",
    " ('2017-11-08 13:11:51', '2017-11-08 13:18:05'),\n",
    " ('2017-11-08 21:34:47', '2017-11-08 21:46:05'),\n",
    " ('2017-11-08 22:02:30', '2017-11-08 22:04:47'),\n",
    " ('2017-11-09 07:01:11', '2017-11-09 07:12:10'),\n",
    " ('2017-11-09 08:02:02', '2017-11-09 08:08:28'),\n",
    " ('2017-11-09 08:19:59', '2017-11-09 08:32:24'),\n",
    " ('2017-11-09 08:41:31', '2017-11-09 08:48:59'),\n",
    " ('2017-11-09 09:00:06', '2017-11-09 09:09:24'),\n",
    " ('2017-11-09 09:09:37', '2017-11-09 09:24:25'),\n",
    " ('2017-11-09 13:14:37', '2017-11-09 13:25:39'),\n",
    " ('2017-11-09 15:20:07', '2017-11-09 15:31:10'),\n",
    " ('2017-11-09 18:47:08', '2017-11-09 18:53:10'),\n",
    " ('2017-11-09 23:35:02', '2017-11-09 23:43:35'),\n",
    " ('2017-11-10 07:51:33', '2017-11-10 08:02:28'),\n",
    " ('2017-11-10 08:38:28', '2017-11-10 08:42:09'),\n",
    " ('2017-11-11 18:05:25', '2017-11-11 18:13:14'),\n",
    " ('2017-11-11 19:39:12', '2017-11-11 19:46:22'),\n",
    " ('2017-11-11 21:13:19', '2017-11-11 21:16:31'),\n",
    " ('2017-11-12 09:46:19', '2017-11-12 09:51:43'),\n",
    " ('2017-11-13 13:33:42', '2017-11-13 13:54:15'),\n",
    " ('2017-11-14 08:40:29', '2017-11-14 08:55:52'),\n",
    " ('2017-11-15 06:14:05', '2017-11-15 06:30:06'),\n",
    " ('2017-11-15 08:14:59', '2017-11-15 08:23:44'),\n",
    " ('2017-11-15 10:16:44', '2017-11-15 10:33:41'),\n",
    " ('2017-11-15 10:33:58', '2017-11-15 10:54:14'),\n",
    " ('2017-11-15 11:02:15', '2017-11-15 11:14:42'),\n",
    " ('2017-11-16 09:27:41', '2017-11-16 09:38:49'),\n",
    " ('2017-11-16 09:57:41', '2017-11-16 10:18:00'),\n",
    " ('2017-11-16 17:25:05', '2017-11-16 17:44:47'),\n",
    " ('2017-11-17 13:45:54', '2017-11-17 16:36:56'),\n",
    " ('2017-11-17 19:12:49', '2017-11-17 19:31:15'),\n",
    " ('2017-11-18 10:49:06', '2017-11-18 10:55:45'),\n",
    " ('2017-11-18 11:32:12', '2017-11-18 11:44:16'),\n",
    " ('2017-11-18 18:09:01', '2017-11-18 18:14:31'),\n",
    " ('2017-11-18 18:53:10', '2017-11-18 19:01:29'),\n",
    " ('2017-11-19 14:15:41', '2017-11-19 14:31:49'),\n",
    " ('2017-11-20 21:19:19', '2017-11-20 21:41:09'),\n",
    " ('2017-11-20 22:39:48', '2017-11-20 23:23:37'),\n",
    " ('2017-11-21 17:44:25', '2017-11-21 17:51:32'),\n",
    " ('2017-11-21 18:20:52', '2017-11-21 18:34:51'),\n",
    " ('2017-11-21 18:47:32', '2017-11-21 18:51:50'),\n",
    " ('2017-11-21 19:07:57', '2017-11-21 19:14:33'),\n",
    " ('2017-11-21 20:04:56', '2017-11-21 20:08:54'),\n",
    " ('2017-11-21 21:55:47', '2017-11-21 22:08:12'),\n",
    " ('2017-11-23 23:47:43', '2017-11-23 23:57:56'),\n",
    " ('2017-11-24 06:41:25', '2017-11-24 06:53:15'),\n",
    " ('2017-11-24 06:58:56', '2017-11-24 07:33:24'),\n",
    " ('2017-11-26 12:25:49', '2017-11-26 12:41:36'),\n",
    " ('2017-11-27 05:29:04', '2017-11-27 05:54:13'),\n",
    " ('2017-11-27 06:06:47', '2017-11-27 06:11:01'),\n",
    " ('2017-11-27 06:45:14', '2017-11-27 06:55:39'),\n",
    " ('2017-11-27 09:39:44', '2017-11-27 09:47:43'),\n",
    " ('2017-11-27 11:09:18', '2017-11-27 11:20:46'),\n",
    " ('2017-11-27 11:31:46', '2017-11-27 11:35:44'),\n",
    " ('2017-11-27 12:07:14', '2017-11-27 12:12:36'),\n",
    " ('2017-11-27 12:21:40', '2017-11-27 12:26:44'),\n",
    " ('2017-11-27 17:26:31', '2017-11-27 17:36:07'),\n",
    " ('2017-11-27 18:11:49', '2017-11-27 18:29:04'),\n",
    " ('2017-11-27 19:36:16', '2017-11-27 19:47:17'),\n",
    " ('2017-11-27 20:12:57', '2017-11-27 20:17:33'),\n",
    " ('2017-11-28 08:18:06', '2017-11-28 08:41:53'),\n",
    " ('2017-11-28 19:17:23', '2017-11-28 19:34:01'),\n",
    " ('2017-11-28 19:34:15', '2017-11-28 19:46:24'),\n",
    " ('2017-11-28 21:27:29', '2017-11-28 21:39:32'),\n",
    " ('2017-11-29 07:47:38', '2017-11-29 07:51:18'),\n",
    " ('2017-11-29 09:50:12', '2017-11-29 09:53:44'),\n",
    " ('2017-11-29 17:03:42', '2017-11-29 17:16:21'),\n",
    " ('2017-11-29 18:19:15', '2017-11-29 18:23:43'),\n",
    " ('2017-12-01 17:03:58', '2017-12-01 17:10:12'),\n",
    " ('2017-12-02 07:55:56', '2017-12-02 08:01:01'),\n",
    " ('2017-12-02 09:16:14', '2017-12-02 09:21:18'),\n",
    " ('2017-12-02 19:48:29', '2017-12-02 19:53:18'),\n",
    " ('2017-12-03 14:36:29', '2017-12-03 15:20:09'),\n",
    " ('2017-12-03 16:04:02', '2017-12-03 16:25:30'),\n",
    " ('2017-12-03 16:40:26', '2017-12-03 16:43:58'),\n",
    " ('2017-12-03 17:20:17', '2017-12-03 18:04:33'),\n",
    " ('2017-12-04 08:34:24', '2017-12-04 08:51:00'),\n",
    " ('2017-12-04 17:49:26', '2017-12-04 17:53:57'),\n",
    " ('2017-12-04 18:38:52', '2017-12-04 18:50:33'),\n",
    " ('2017-12-04 21:39:20', '2017-12-04 21:46:58'),\n",
    " ('2017-12-04 21:54:21', '2017-12-04 21:56:17'),\n",
    " ('2017-12-05 08:50:50', '2017-12-05 08:52:54'),\n",
    " ('2017-12-06 08:19:38', '2017-12-06 08:24:14'),\n",
    " ('2017-12-06 18:19:19', '2017-12-06 18:28:11'),\n",
    " ('2017-12-06 18:28:55', '2017-12-06 18:33:12'),\n",
    " ('2017-12-06 20:03:29', '2017-12-06 20:21:38'),\n",
    " ('2017-12-06 20:36:42', '2017-12-06 20:39:57'),\n",
    " ('2017-12-07 05:54:51', '2017-12-07 06:01:15'),\n",
    " ('2017-12-08 16:47:18', '2017-12-08 16:55:49'),\n",
    " ('2017-12-08 19:15:02', '2017-12-08 19:29:12'),\n",
    " ('2017-12-09 22:39:37', '2017-12-09 22:47:19'),\n",
    " ('2017-12-09 23:00:10', '2017-12-09 23:05:32'),\n",
    " ('2017-12-10 00:39:24', '2017-12-10 00:56:02'),\n",
    " ('2017-12-10 01:02:42', '2017-12-10 01:08:09'),\n",
    " ('2017-12-10 01:08:57', '2017-12-10 01:11:30'),\n",
    " ('2017-12-10 13:49:09', '2017-12-10 13:51:41'),\n",
    " ('2017-12-10 15:14:29', '2017-12-10 15:18:19'),\n",
    " ('2017-12-10 15:31:07', '2017-12-10 15:36:28'),\n",
    " ('2017-12-10 16:20:06', '2017-12-10 16:30:31'),\n",
    " ('2017-12-10 17:07:54', '2017-12-10 17:14:25'),\n",
    " ('2017-12-10 17:23:47', '2017-12-10 17:45:25'),\n",
    " ('2017-12-11 06:17:06', '2017-12-11 06:34:04'),\n",
    " ('2017-12-11 09:08:41', '2017-12-11 09:12:21'),\n",
    " ('2017-12-11 09:15:41', '2017-12-11 09:20:18'),\n",
    " ('2017-12-12 08:55:53', '2017-12-12 08:59:34'),\n",
    " ('2017-12-13 17:14:56', '2017-12-13 17:18:32'),\n",
    " ('2017-12-13 18:52:16', '2017-12-13 19:00:45'),\n",
    " ('2017-12-14 09:01:10', '2017-12-14 09:11:06'),\n",
    " ('2017-12-14 09:12:59', '2017-12-14 09:19:06'),\n",
    " ('2017-12-14 11:54:33', '2017-12-14 12:02:00'),\n",
    " ('2017-12-14 14:40:23', '2017-12-14 14:44:40'),\n",
    " ('2017-12-14 15:08:55', '2017-12-14 15:26:24'),\n",
    " ('2017-12-14 17:46:17', '2017-12-14 18:09:04'),\n",
    " ('2017-12-15 09:08:12', '2017-12-15 09:23:45'),\n",
    " ('2017-12-16 09:33:46', '2017-12-16 09:36:17'),\n",
    " ('2017-12-16 11:02:31', '2017-12-16 11:05:04'),\n",
    " ('2017-12-17 10:09:47', '2017-12-17 10:32:03'),\n",
    " ('2017-12-18 08:02:36', '2017-12-18 08:07:34'),\n",
    " ('2017-12-18 16:03:00', '2017-12-18 16:09:20'),\n",
    " ('2017-12-18 16:30:07', '2017-12-18 16:53:12'),\n",
    " ('2017-12-18 19:18:23', '2017-12-18 19:22:08'),\n",
    " ('2017-12-18 20:14:46', '2017-12-18 20:17:47'),\n",
    " ('2017-12-19 19:14:08', '2017-12-19 19:23:49'),\n",
    " ('2017-12-19 19:39:36', '2017-12-19 19:43:46'),\n",
    " ('2017-12-20 08:05:14', '2017-12-20 08:10:46'),\n",
    " ('2017-12-20 08:15:45', '2017-12-20 08:29:50'),\n",
    " ('2017-12-20 08:33:32', '2017-12-20 08:38:09'),\n",
    " ('2017-12-20 13:43:36', '2017-12-20 13:54:39'),\n",
    " ('2017-12-20 18:57:53', '2017-12-20 19:06:54'),\n",
    " ('2017-12-21 07:21:11', '2017-12-21 07:32:03'),\n",
    " ('2017-12-21 08:01:58', '2017-12-21 08:06:15'),\n",
    " ('2017-12-21 13:20:54', '2017-12-21 13:33:49'),\n",
    " ('2017-12-21 15:26:08', '2017-12-21 15:34:27'),\n",
    " ('2017-12-21 18:09:46', '2017-12-21 18:38:50'),\n",
    " ('2017-12-22 16:14:21', '2017-12-22 16:21:46'),\n",
    " ('2017-12-22 16:29:17', '2017-12-22 16:34:14'),\n",
    " ('2017-12-25 12:49:51', '2017-12-25 13:18:27'),\n",
    " ('2017-12-25 13:46:44', '2017-12-25 14:20:50'),\n",
    " ('2017-12-26 10:40:16', '2017-12-26 10:53:45'),\n",
    " ('2017-12-27 16:56:12', '2017-12-27 17:17:39'),\n",
    " ('2017-12-29 06:02:34', '2017-12-29 06:12:30'),\n",
    " ('2017-12-29 12:21:03', '2017-12-29 12:46:16'),\n",
    " ('2017-12-29 14:32:55', '2017-12-29 14:43:46'),\n",
    " ('2017-12-29 15:08:26', '2017-12-29 15:18:51'),\n",
    " ('2017-12-29 20:33:34', '2017-12-29 20:38:13'),\n",
    " ('2017-12-30 13:51:03', '2017-12-30 13:54:33'),\n",
    " ('2017-12-30 15:09:03', '2017-12-30 15:19:13')]\n",
    "\n",
    "est = tz.gettz('US/Eastern')\n",
    "# Write down the format string\n",
    "fmt = \"%Y-%m-%d %H:%M:%S\"\n",
    "\n",
    "# Initialize a list for holding the pairs of datetime objects\n",
    "onebike_datetimes = []\n",
    "\n",
    "# Loop over all trips\n",
    "for (start, end) in onebike_datetime_strings:\n",
    "  trip = {'end': datetime.strptime(end, fmt),\n",
    "          'start': datetime.strptime(start, fmt)}\n",
    "\n",
    "    # Append the trip\n",
    "  onebike_datetimes.append(trip)\n",
    "\n",
    "for trip in onebike_datetimes:\n",
    "    trip['start'] = trip['start'].replace(fold=0,tzinfo=tz.gettz('America/New_York'))\n",
    "    trip['end'] = trip['end'].replace(fold=0,tzinfo=tz.gettz('America/New_York'))"
   ]
  },
  {
   "cell_type": "markdown",
   "metadata": {},
   "source": [
    "<font size=\"5\"><b>Finding ambiguous datetimes</b></font><br/>\n",
    "\n",
    "At the end of lesson 2, we saw something anomalous in our bike trip duration data. Let's see if we can identify what the problem might be.\n",
    "\n",
    "The data has is loaded as onebike_datetimes, and tz has already been imported from dateutil.\n",
    "\n",
    "<b>Instructions</b>\n",
    "- Loop over the trips in onebike_datetimes:\n",
    "- Print any rides whose start is ambiguous.\n",
    "- Print any rides whose end is ambiguous.\n"
   ]
  },
  {
   "cell_type": "code",
   "execution_count": 16,
   "metadata": {},
   "outputs": [
    {
     "name": "stdout",
     "output_type": "stream",
     "text": [
      "Ambiguous start at 2017-11-05 01:56:50-04:00\n",
      "Ambiguous end at 2017-11-05 01:01:04-04:00\n"
     ]
    }
   ],
   "source": [
    "# Loop over trips\n",
    "for trip in onebike_datetimes:\n",
    "  # Rides with ambiguous start\n",
    "  if tz.datetime_ambiguous(trip['start']):\n",
    "    print(\"Ambiguous start at \" + str(trip['start']))\n",
    "  # Rides with ambiguous end \n",
    "  if tz.datetime_ambiguous(trip['end']):\n",
    "    print(\"Ambiguous end at \" + str(trip['end']))"
   ]
  },
  {
   "cell_type": "markdown",
   "metadata": {},
   "source": [
    "<b>Good work! Note that tz.datetime_ambiguous() only catches ambiguous datetimes from Daylight Saving changes. Other weird edge cases, like jurisdictions which change their Daylight Saving rules, hopefully should be caught by tz. And if they're not, at least those kinds of things are pretty rare in most data sets!</b>"
   ]
  },
  {
   "cell_type": "markdown",
   "metadata": {},
   "source": [
    "<font size=\"5\"><b>Cleaning daylight saving data with fold</b></font><br/>\n",
    "\n",
    "As we've just discovered, there is a ride in our data set which is being messed up by a Daylight Savings shift. Let's clean up the data set so we actually have a correct minimum ride length. We can use the fact that we know the end of the ride happened after the beginning to fix up the duration messed up by the shift out of Daylight Savings.\n",
    "\n",
    "Since Python does not handle tz.enfold() when doing arithmetic, we must put our datetime objects into UTC, where ambiguities have been resolved.\n",
    "\n",
    "onebike_datetimes is already loaded and in the right timezone. tz and timezone have been imported.\n",
    "\n",
    "<b>Instructions</b>\n",
    "\n",
    "- Complete the if statement to be true only when a ride's start comes after its end.\n",
    "- When start is after end, call tz.enfold() on the end so you know it refers to the one after the daylight savings time change.\n",
    "- After the if statement, convert the start and end to UTC so you can make a proper comparison."
   ]
  },
  {
   "cell_type": "code",
   "execution_count": 17,
   "metadata": {},
   "outputs": [
    {
     "name": "stdout",
     "output_type": "stream",
     "text": [
      "Shortest trip: 116.0\n"
     ]
    }
   ],
   "source": [
    "trip_durations = []\n",
    "for trip in onebike_datetimes:\n",
    "  # When the start is later than the end, set the fold to be 1\n",
    "  if trip['start'] > trip['end']:\n",
    "    trip['end'] = tz.enfold(trip['end'])\n",
    "  # Convert to UTC\n",
    "  start = trip['start'].astimezone(tz.UTC)\n",
    "  end = trip['end'].astimezone(tz.UTC)\n",
    "\n",
    "  # Subtract the difference\n",
    "  trip_length_seconds = (end-start).total_seconds()\n",
    "  trip_durations.append(trip_length_seconds)\n",
    "\n",
    "# Take the shortest trip duration\n",
    "print(\"Shortest trip: \" + str(min(trip_durations)))"
   ]
  },
  {
   "cell_type": "markdown",
   "metadata": {},
   "source": [
    "<b>Good work! Now you know how to handle some pretty gnarly edge cases in datetime data. To give a sense for how tricky these things are: we actually still don't know how long the rides are which only started or ended in our ambiguous hour but not both. If you're collecting data, store it in UTC or with a fixed UTC offset!</b>"
   ]
  }
 ],
 "metadata": {
  "kernelspec": {
   "display_name": "Python 3",
   "language": "python",
   "name": "python3"
  },
  "language_info": {
   "codemirror_mode": {
    "name": "ipython",
    "version": 3
   },
   "file_extension": ".py",
   "mimetype": "text/x-python",
   "name": "python",
   "nbconvert_exporter": "python",
   "pygments_lexer": "ipython3",
   "version": "3.7.4"
  },
  "varInspector": {
   "cols": {
    "lenName": 16,
    "lenType": 16,
    "lenVar": 40
   },
   "kernels_config": {
    "python": {
     "delete_cmd_postfix": "",
     "delete_cmd_prefix": "del ",
     "library": "var_list.py",
     "varRefreshCmd": "print(var_dic_list())"
    },
    "r": {
     "delete_cmd_postfix": ") ",
     "delete_cmd_prefix": "rm(",
     "library": "var_list.r",
     "varRefreshCmd": "cat(var_dic_list()) "
    }
   },
   "types_to_exclude": [
    "module",
    "function",
    "builtin_function_or_method",
    "instance",
    "_Feature"
   ],
   "window_display": false
  }
 },
 "nbformat": 4,
 "nbformat_minor": 2
}
